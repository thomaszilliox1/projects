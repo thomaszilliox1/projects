{
 "cells": [
  {
   "cell_type": "markdown",
   "metadata": {},
   "source": [
    "# Predict Cars Algorythm\n
    Goal : Predict if the car is going to be expensive or not based on our data."
   ]
  },
  {
   "cell_type": "code",
   "execution_count": 1,
   "metadata": {
    "ExecuteTime": {
     "end_time": "2023-11-25T11:56:54.307821Z",
     "start_time": "2023-11-25T11:56:53.745564Z"
    }
   },
   "outputs": [],
   "source": [
    "# 1 - DATA MANIPULATION\n",
    "import pandas as pd\n",
    "\n",
    "# 2 - MACHINE LEARNING\n",
    "\n",
    "## 2.1 - Preprocessing\n",
    "\n",
    "### 2.1.1 - Scalers\n",
    "from sklearn.preprocessing import StandardScaler, RobustScaler, MinMaxScaler\n",
    "\n",
    "### 2.1.2 - Encoders\n",
    "from sklearn.preprocessing import OneHotEncoder\n",
    "\n",
    "### 2.1.3 - Crossvalidation, Training, Model\n",
    "from sklearn.model_selection import cross_validate\n",
    "from sklearn.model_selection import train_test_split\n",
    "from sklearn.linear_model import LogisticRegression\n"
   ]
  },
  {
   "cell_type": "markdown",
   "metadata": {},
   "source": [
    "# 🚗 The Cars dataset"
   ]
  },
  {
   "cell_type": "code",
   "execution_count": 2,
   "metadata": {
    "ExecuteTime": {
     "end_time": "2023-11-25T11:56:55.905416Z",
     "start_time": "2023-11-25T11:56:55.592762Z"
    }
   },
   "outputs": [
    {
     "data": {
      "text/html": [
       "<div>\n",
       "<style scoped>\n",
       "    .dataframe tbody tr th:only-of-type {\n",
       "        vertical-align: middle;\n",
       "    }\n",
       "\n",
       "    .dataframe tbody tr th {\n",
       "        vertical-align: top;\n",
       "    }\n",
       "\n",
       "    .dataframe thead th {\n",
       "        text-align: right;\n",
       "    }\n",
       "</style>\n",
       "<table border=\"1\" class=\"dataframe\">\n",
       "  <thead>\n",
       "    <tr style=\"text-align: right;\">\n",
       "      <th></th>\n",
       "      <th>aspiration</th>\n",
       "      <th>carwidth</th>\n",
       "      <th>curbweight</th>\n",
       "      <th>enginetype</th>\n",
       "      <th>cylindernumber</th>\n",
       "      <th>stroke</th>\n",
       "      <th>peakrpm</th>\n",
       "      <th>price</th>\n",
       "    </tr>\n",
       "  </thead>\n",
       "  <tbody>\n",
       "    <tr>\n",
       "      <th>0</th>\n",
       "      <td>std</td>\n",
       "      <td>64.10000</td>\n",
       "      <td>2548.0</td>\n",
       "      <td>dohc</td>\n",
       "      <td>four</td>\n",
       "      <td>2.68</td>\n",
       "      <td>5000.0</td>\n",
       "      <td>expensive</td>\n",
       "    </tr>\n",
       "    <tr>\n",
       "      <th>1</th>\n",
       "      <td>std</td>\n",
       "      <td>64.10000</td>\n",
       "      <td>2548.0</td>\n",
       "      <td>dohc</td>\n",
       "      <td>four</td>\n",
       "      <td>2.68</td>\n",
       "      <td>5000.0</td>\n",
       "      <td>expensive</td>\n",
       "    </tr>\n",
       "    <tr>\n",
       "      <th>2</th>\n",
       "      <td>std</td>\n",
       "      <td>65.50000</td>\n",
       "      <td>2823.0</td>\n",
       "      <td>ohcv</td>\n",
       "      <td>six</td>\n",
       "      <td>3.47</td>\n",
       "      <td>5000.0</td>\n",
       "      <td>expensive</td>\n",
       "    </tr>\n",
       "    <tr>\n",
       "      <th>3</th>\n",
       "      <td>std</td>\n",
       "      <td>65.88794</td>\n",
       "      <td>2337.0</td>\n",
       "      <td>ohc</td>\n",
       "      <td>four</td>\n",
       "      <td>3.40</td>\n",
       "      <td>5500.0</td>\n",
       "      <td>expensive</td>\n",
       "    </tr>\n",
       "    <tr>\n",
       "      <th>4</th>\n",
       "      <td>std</td>\n",
       "      <td>66.40000</td>\n",
       "      <td>2824.0</td>\n",
       "      <td>ohc</td>\n",
       "      <td>five</td>\n",
       "      <td>3.40</td>\n",
       "      <td>5500.0</td>\n",
       "      <td>expensive</td>\n",
       "    </tr>\n",
       "    <tr>\n",
       "      <th>...</th>\n",
       "      <td>...</td>\n",
       "      <td>...</td>\n",
       "      <td>...</td>\n",
       "      <td>...</td>\n",
       "      <td>...</td>\n",
       "      <td>...</td>\n",
       "      <td>...</td>\n",
       "      <td>...</td>\n",
       "    </tr>\n",
       "    <tr>\n",
       "      <th>200</th>\n",
       "      <td>std</td>\n",
       "      <td>68.90000</td>\n",
       "      <td>2952.0</td>\n",
       "      <td>ohc</td>\n",
       "      <td>four</td>\n",
       "      <td>3.15</td>\n",
       "      <td>5400.0</td>\n",
       "      <td>expensive</td>\n",
       "    </tr>\n",
       "    <tr>\n",
       "      <th>201</th>\n",
       "      <td>turbo</td>\n",
       "      <td>68.80000</td>\n",
       "      <td>3049.0</td>\n",
       "      <td>ohc</td>\n",
       "      <td>four</td>\n",
       "      <td>3.15</td>\n",
       "      <td>5300.0</td>\n",
       "      <td>expensive</td>\n",
       "    </tr>\n",
       "    <tr>\n",
       "      <th>202</th>\n",
       "      <td>std</td>\n",
       "      <td>68.90000</td>\n",
       "      <td>3012.0</td>\n",
       "      <td>ohcv</td>\n",
       "      <td>six</td>\n",
       "      <td>2.87</td>\n",
       "      <td>5500.0</td>\n",
       "      <td>expensive</td>\n",
       "    </tr>\n",
       "    <tr>\n",
       "      <th>203</th>\n",
       "      <td>turbo</td>\n",
       "      <td>68.90000</td>\n",
       "      <td>3217.0</td>\n",
       "      <td>ohc</td>\n",
       "      <td>six</td>\n",
       "      <td>3.40</td>\n",
       "      <td>4800.0</td>\n",
       "      <td>expensive</td>\n",
       "    </tr>\n",
       "    <tr>\n",
       "      <th>204</th>\n",
       "      <td>turbo</td>\n",
       "      <td>68.90000</td>\n",
       "      <td>3062.0</td>\n",
       "      <td>ohc</td>\n",
       "      <td>four</td>\n",
       "      <td>3.15</td>\n",
       "      <td>5400.0</td>\n",
       "      <td>expensive</td>\n",
       "    </tr>\n",
       "  </tbody>\n",
       "</table>\n",
       "<p>205 rows × 8 columns</p>\n",
       "</div>"
      ],
      "text/plain": [
       "    aspiration  carwidth  curbweight enginetype cylindernumber  stroke  \\\n",
       "0          std  64.10000      2548.0       dohc           four    2.68   \n",
       "1          std  64.10000      2548.0       dohc           four    2.68   \n",
       "2          std  65.50000      2823.0       ohcv            six    3.47   \n",
       "3          std  65.88794      2337.0        ohc           four    3.40   \n",
       "4          std  66.40000      2824.0        ohc           five    3.40   \n",
       "..         ...       ...         ...        ...            ...     ...   \n",
       "200        std  68.90000      2952.0        ohc           four    3.15   \n",
       "201      turbo  68.80000      3049.0        ohc           four    3.15   \n",
       "202        std  68.90000      3012.0       ohcv            six    2.87   \n",
       "203      turbo  68.90000      3217.0        ohc            six    3.40   \n",
       "204      turbo  68.90000      3062.0        ohc           four    3.15   \n",
       "\n",
       "     peakrpm      price  \n",
       "0     5000.0  expensive  \n",
       "1     5000.0  expensive  \n",
       "2     5000.0  expensive  \n",
       "3     5500.0  expensive  \n",
       "4     5500.0  expensive  \n",
       "..       ...        ...  \n",
       "200   5400.0  expensive  \n",
       "201   5300.0  expensive  \n",
       "202   5500.0  expensive  \n",
       "203   4800.0  expensive  \n",
       "204   5400.0  expensive  \n",
       "\n",
       "[205 rows x 8 columns]"
      ]
     },
     "execution_count": 2,
     "metadata": {},
     "output_type": "execute_result"
    }
   ],
   "source": [
    "aws_url = \"https://wagon-public-datasets.s3.amazonaws.com/Machine%20Learning%20Datasets/ML_Cars_Recap_dataset.csv\"\n",
    "cars = pd.read_csv(aws_url)\n",
    "cars\n"
   ]
  },
  {
   "cell_type": "code",
   "execution_count": 3,
   "metadata": {
    "ExecuteTime": {
     "end_time": "2023-11-25T11:56:57.541360Z",
     "start_time": "2023-11-25T11:56:57.532878Z"
    }
   },
   "outputs": [
    {
     "data": {
      "text/plain": [
       "(205, 8)"
      ]
     },
     "execution_count": 3,
     "metadata": {},
     "output_type": "execute_result"
    }
   ],
   "source": [
    "cars.shape # 205 cars x 8 features"
   ]
  },
  {
   "cell_type": "markdown",
   "metadata": {},
   "source": [
    "ℹ️ The description of the dataset is available [here](https://wagon-public-datasets.s3.amazonaws.com/Machine%20Learning%20Datasets/ML_Cars_dataset_description.txt)."
   ]
  },
  {
   "cell_type": "markdown",
   "metadata": {},
   "source": [
    "Let's collect some basic information about our dataset."
   ]
  },
  {
   "cell_type": "code",
   "execution_count": 4,
   "metadata": {
    "ExecuteTime": {
     "end_time": "2023-11-25T11:56:58.996669Z",
     "start_time": "2023-11-25T11:56:58.984248Z"
    },
    "tags": [
     "challengify"
    ]
   },
   "outputs": [
    {
     "name": "stdout",
     "output_type": "stream",
     "text": [
      "<class 'pandas.core.frame.DataFrame'>\n",
      "RangeIndex: 205 entries, 0 to 204\n",
      "Data columns (total 8 columns):\n",
      " #   Column          Non-Null Count  Dtype  \n",
      "---  ------          --------------  -----  \n",
      " 0   aspiration      205 non-null    object \n",
      " 1   carwidth        205 non-null    float64\n",
      " 2   curbweight      205 non-null    float64\n",
      " 3   enginetype      205 non-null    object \n",
      " 4   cylindernumber  205 non-null    object \n",
      " 5   stroke          205 non-null    float64\n",
      " 6   peakrpm         205 non-null    float64\n",
      " 7   price           205 non-null    object \n",
      "dtypes: float64(4), object(4)\n",
      "memory usage: 12.9+ KB\n"
     ]
    }
   ],
   "source": [
    "cars.info()\n"
   ]
  },
  {
   "cell_type": "markdown",
   "metadata": {},
   "source": [
    "# (1) 🛠 Data preparation"
   ]
  },
  {
   "cell_type": "markdown",
   "metadata": {},
   "source": [
    "## (1.0) Pre-requisites"
   ]
  },
  {
   "cell_type": "markdown",
   "metadata": {},
   "source": [
    "**Question (Potential anomalies)**\n",
    "\n",
    "- Are there columns which need to be modified because of their data types? "
   ]
  },
  {
   "cell_type": "code",
   "execution_count": 5,
   "metadata": {
    "ExecuteTime": {
     "end_time": "2023-11-25T11:57:01.550358Z",
     "start_time": "2023-11-25T11:57:01.537551Z"
    },
    "tags": [
     "challengify"
    ]
   },
   "outputs": [
    {
     "data": {
      "text/plain": [
       "four      159\n",
       "six        24\n",
       "five       11\n",
       "eight       5\n",
       "two         4\n",
       "three       1\n",
       "twelve      1\n",
       "Name: cylindernumber, dtype: int64"
      ]
     },
     "execution_count": 5,
     "metadata": {},
     "output_type": "execute_result"
    }
   ],
   "source": [
    "cars.cylindernumber.value_counts()\n"
   ]
  },
  {
   "cell_type": "code",
   "execution_count": 6,
   "metadata": {
    "ExecuteTime": {
     "end_time": "2023-11-25T11:57:02.964604Z",
     "start_time": "2023-11-25T11:57:02.951270Z"
    }
   },
   "outputs": [
    {
     "data": {
      "text/plain": [
       "0      4\n",
       "1      4\n",
       "2      6\n",
       "3      4\n",
       "4      5\n",
       "      ..\n",
       "200    4\n",
       "201    4\n",
       "202    6\n",
       "203    6\n",
       "204    4\n",
       "Name: cylindernumber, Length: 205, dtype: int64"
      ]
     },
     "execution_count": 6,
     "metadata": {},
     "output_type": "execute_result"
    }
   ],
   "source": [
    "cylinder_dict={\n",
    "    'four':4,\n",
    "    'six': 6,\n",
    "    'five':5,\n",
    "    'eight':8,\n",
    "    'two':2,\n",
    "    'three':3,\n",
    "    'twelve':12\n",
    "}\n",
    "cars.cylindernumber.map(cylinder_dict)\n"
   ]
  },
  {
   "cell_type": "code",
   "execution_count": 7,
   "metadata": {
    "ExecuteTime": {
     "end_time": "2023-11-25T11:57:04.632788Z",
     "start_time": "2023-11-25T11:57:04.615683Z"
    }
   },
   "outputs": [
    {
     "name": "stdout",
     "output_type": "stream",
     "text": [
      "<class 'pandas.core.frame.DataFrame'>\n",
      "RangeIndex: 205 entries, 0 to 204\n",
      "Data columns (total 8 columns):\n",
      " #   Column          Non-Null Count  Dtype  \n",
      "---  ------          --------------  -----  \n",
      " 0   aspiration      205 non-null    object \n",
      " 1   carwidth        205 non-null    float64\n",
      " 2   curbweight      205 non-null    float64\n",
      " 3   enginetype      205 non-null    object \n",
      " 4   cylindernumber  205 non-null    int64  \n",
      " 5   stroke          205 non-null    float64\n",
      " 6   peakrpm         205 non-null    float64\n",
      " 7   price           205 non-null    object \n",
      "dtypes: float64(4), int64(1), object(3)\n",
      "memory usage: 12.9+ KB\n"
     ]
    }
   ],
   "source": [
    "cylinder_dict={\n",
    "    'four':4,\n",
    "    'six': 6,\n",
    "    'five':5,\n",
    "    'eight':8,\n",
    "    'two':2,\n",
    "    'three':3,\n",
    "    'twelve':12\n",
    "}\n",
    "\n",
    "cars['cylindernumber']=cars.cylindernumber.map(cylinder_dict)\n",
    "cars.info()\n",
    "\n"
   ]
  },
  {
   "cell_type": "code",
   "execution_count": 8,
   "metadata": {
    "ExecuteTime": {
     "end_time": "2023-11-25T11:57:07.001501Z",
     "start_time": "2023-11-25T11:57:06.980887Z"
    }
   },
   "outputs": [
    {
     "data": {
      "text/html": [
       "<div>\n",
       "<style scoped>\n",
       "    .dataframe tbody tr th:only-of-type {\n",
       "        vertical-align: middle;\n",
       "    }\n",
       "\n",
       "    .dataframe tbody tr th {\n",
       "        vertical-align: top;\n",
       "    }\n",
       "\n",
       "    .dataframe thead th {\n",
       "        text-align: right;\n",
       "    }\n",
       "</style>\n",
       "<table border=\"1\" class=\"dataframe\">\n",
       "  <thead>\n",
       "    <tr style=\"text-align: right;\">\n",
       "      <th></th>\n",
       "      <th>aspiration</th>\n",
       "      <th>carwidth</th>\n",
       "      <th>curbweight</th>\n",
       "      <th>enginetype</th>\n",
       "      <th>cylindernumber</th>\n",
       "      <th>stroke</th>\n",
       "      <th>peakrpm</th>\n",
       "      <th>price</th>\n",
       "    </tr>\n",
       "  </thead>\n",
       "  <tbody>\n",
       "    <tr>\n",
       "      <th>0</th>\n",
       "      <td>std</td>\n",
       "      <td>64.10000</td>\n",
       "      <td>2548.0</td>\n",
       "      <td>dohc</td>\n",
       "      <td>4</td>\n",
       "      <td>2.68</td>\n",
       "      <td>5000.0</td>\n",
       "      <td>expensive</td>\n",
       "    </tr>\n",
       "    <tr>\n",
       "      <th>1</th>\n",
       "      <td>std</td>\n",
       "      <td>64.10000</td>\n",
       "      <td>2548.0</td>\n",
       "      <td>dohc</td>\n",
       "      <td>4</td>\n",
       "      <td>2.68</td>\n",
       "      <td>5000.0</td>\n",
       "      <td>expensive</td>\n",
       "    </tr>\n",
       "    <tr>\n",
       "      <th>2</th>\n",
       "      <td>std</td>\n",
       "      <td>65.50000</td>\n",
       "      <td>2823.0</td>\n",
       "      <td>ohcv</td>\n",
       "      <td>6</td>\n",
       "      <td>3.47</td>\n",
       "      <td>5000.0</td>\n",
       "      <td>expensive</td>\n",
       "    </tr>\n",
       "    <tr>\n",
       "      <th>3</th>\n",
       "      <td>std</td>\n",
       "      <td>65.88794</td>\n",
       "      <td>2337.0</td>\n",
       "      <td>ohc</td>\n",
       "      <td>4</td>\n",
       "      <td>3.40</td>\n",
       "      <td>5500.0</td>\n",
       "      <td>expensive</td>\n",
       "    </tr>\n",
       "    <tr>\n",
       "      <th>4</th>\n",
       "      <td>std</td>\n",
       "      <td>66.40000</td>\n",
       "      <td>2824.0</td>\n",
       "      <td>ohc</td>\n",
       "      <td>5</td>\n",
       "      <td>3.40</td>\n",
       "      <td>5500.0</td>\n",
       "      <td>expensive</td>\n",
       "    </tr>\n",
       "    <tr>\n",
       "      <th>...</th>\n",
       "      <td>...</td>\n",
       "      <td>...</td>\n",
       "      <td>...</td>\n",
       "      <td>...</td>\n",
       "      <td>...</td>\n",
       "      <td>...</td>\n",
       "      <td>...</td>\n",
       "      <td>...</td>\n",
       "    </tr>\n",
       "    <tr>\n",
       "      <th>200</th>\n",
       "      <td>std</td>\n",
       "      <td>68.90000</td>\n",
       "      <td>2952.0</td>\n",
       "      <td>ohc</td>\n",
       "      <td>4</td>\n",
       "      <td>3.15</td>\n",
       "      <td>5400.0</td>\n",
       "      <td>expensive</td>\n",
       "    </tr>\n",
       "    <tr>\n",
       "      <th>201</th>\n",
       "      <td>turbo</td>\n",
       "      <td>68.80000</td>\n",
       "      <td>3049.0</td>\n",
       "      <td>ohc</td>\n",
       "      <td>4</td>\n",
       "      <td>3.15</td>\n",
       "      <td>5300.0</td>\n",
       "      <td>expensive</td>\n",
       "    </tr>\n",
       "    <tr>\n",
       "      <th>202</th>\n",
       "      <td>std</td>\n",
       "      <td>68.90000</td>\n",
       "      <td>3012.0</td>\n",
       "      <td>ohcv</td>\n",
       "      <td>6</td>\n",
       "      <td>2.87</td>\n",
       "      <td>5500.0</td>\n",
       "      <td>expensive</td>\n",
       "    </tr>\n",
       "    <tr>\n",
       "      <th>203</th>\n",
       "      <td>turbo</td>\n",
       "      <td>68.90000</td>\n",
       "      <td>3217.0</td>\n",
       "      <td>ohc</td>\n",
       "      <td>6</td>\n",
       "      <td>3.40</td>\n",
       "      <td>4800.0</td>\n",
       "      <td>expensive</td>\n",
       "    </tr>\n",
       "    <tr>\n",
       "      <th>204</th>\n",
       "      <td>turbo</td>\n",
       "      <td>68.90000</td>\n",
       "      <td>3062.0</td>\n",
       "      <td>ohc</td>\n",
       "      <td>4</td>\n",
       "      <td>3.15</td>\n",
       "      <td>5400.0</td>\n",
       "      <td>expensive</td>\n",
       "    </tr>\n",
       "  </tbody>\n",
       "</table>\n",
       "<p>205 rows × 8 columns</p>\n",
       "</div>"
      ],
      "text/plain": [
       "    aspiration  carwidth  curbweight enginetype  cylindernumber  stroke  \\\n",
       "0          std  64.10000      2548.0       dohc               4    2.68   \n",
       "1          std  64.10000      2548.0       dohc               4    2.68   \n",
       "2          std  65.50000      2823.0       ohcv               6    3.47   \n",
       "3          std  65.88794      2337.0        ohc               4    3.40   \n",
       "4          std  66.40000      2824.0        ohc               5    3.40   \n",
       "..         ...       ...         ...        ...             ...     ...   \n",
       "200        std  68.90000      2952.0        ohc               4    3.15   \n",
       "201      turbo  68.80000      3049.0        ohc               4    3.15   \n",
       "202        std  68.90000      3012.0       ohcv               6    2.87   \n",
       "203      turbo  68.90000      3217.0        ohc               6    3.40   \n",
       "204      turbo  68.90000      3062.0        ohc               4    3.15   \n",
       "\n",
       "     peakrpm      price  \n",
       "0     5000.0  expensive  \n",
       "1     5000.0  expensive  \n",
       "2     5000.0  expensive  \n",
       "3     5500.0  expensive  \n",
       "4     5500.0  expensive  \n",
       "..       ...        ...  \n",
       "200   5400.0  expensive  \n",
       "201   5300.0  expensive  \n",
       "202   5500.0  expensive  \n",
       "203   4800.0  expensive  \n",
       "204   5400.0  expensive  \n",
       "\n",
       "[205 rows x 8 columns]"
      ]
     },
     "execution_count": 8,
     "metadata": {},
     "output_type": "execute_result"
    }
   ],
   "source": [
    "cars\n"
   ]
  },
  {
   "cell_type": "markdown",
   "metadata": {},
   "source": [
    "## (1.1) Duplicates"
   ]
  },
  {
   "cell_type": "markdown",
   "metadata": {},
   "source": [
    "We have to calculate the number of duplicated rows that the cars dataset has."
   ]
  },
  {
   "cell_type": "code",
   "execution_count": 9,
   "metadata": {
    "ExecuteTime": {
     "end_time": "2023-11-25T11:57:09.499979Z",
     "start_time": "2023-11-25T11:57:09.486688Z"
    },
    "tags": [
     "challengify"
    ]
   },
   "outputs": [
    {
     "data": {
      "text/plain": [
       "14"
      ]
     },
     "execution_count": 9,
     "metadata": {},
     "output_type": "execute_result"
    }
   ],
   "source": [
    "cars.duplicated().sum()"
   ]
  },
  {
   "cell_type": "markdown",
   "metadata": {},
   "source": [
    "There are 14 duplicated rows that we have to delete."
   ]
  },
  {
   "cell_type": "code",
   "execution_count": 10,
   "metadata": {
    "ExecuteTime": {
     "end_time": "2023-11-25T11:57:10.924105Z",
     "start_time": "2023-11-25T11:57:10.901153Z"
    },
    "tags": [
     "challengify"
    ]
   },
   "outputs": [
    {
     "data": {
      "text/html": [
       "<div>\n",
       "<style scoped>\n",
       "    .dataframe tbody tr th:only-of-type {\n",
       "        vertical-align: middle;\n",
       "    }\n",
       "\n",
       "    .dataframe tbody tr th {\n",
       "        vertical-align: top;\n",
       "    }\n",
       "\n",
       "    .dataframe thead th {\n",
       "        text-align: right;\n",
       "    }\n",
       "</style>\n",
       "<table border=\"1\" class=\"dataframe\">\n",
       "  <thead>\n",
       "    <tr style=\"text-align: right;\">\n",
       "      <th></th>\n",
       "      <th>aspiration</th>\n",
       "      <th>carwidth</th>\n",
       "      <th>curbweight</th>\n",
       "      <th>enginetype</th>\n",
       "      <th>cylindernumber</th>\n",
       "      <th>stroke</th>\n",
       "      <th>peakrpm</th>\n",
       "      <th>price</th>\n",
       "    </tr>\n",
       "  </thead>\n",
       "  <tbody>\n",
       "    <tr>\n",
       "      <th>0</th>\n",
       "      <td>std</td>\n",
       "      <td>64.10000</td>\n",
       "      <td>2548.0</td>\n",
       "      <td>dohc</td>\n",
       "      <td>4</td>\n",
       "      <td>2.68</td>\n",
       "      <td>5000.0</td>\n",
       "      <td>expensive</td>\n",
       "    </tr>\n",
       "    <tr>\n",
       "      <th>1</th>\n",
       "      <td>std</td>\n",
       "      <td>65.50000</td>\n",
       "      <td>2823.0</td>\n",
       "      <td>ohcv</td>\n",
       "      <td>6</td>\n",
       "      <td>3.47</td>\n",
       "      <td>5000.0</td>\n",
       "      <td>expensive</td>\n",
       "    </tr>\n",
       "    <tr>\n",
       "      <th>2</th>\n",
       "      <td>std</td>\n",
       "      <td>65.88794</td>\n",
       "      <td>2337.0</td>\n",
       "      <td>ohc</td>\n",
       "      <td>4</td>\n",
       "      <td>3.40</td>\n",
       "      <td>5500.0</td>\n",
       "      <td>expensive</td>\n",
       "    </tr>\n",
       "    <tr>\n",
       "      <th>3</th>\n",
       "      <td>std</td>\n",
       "      <td>66.40000</td>\n",
       "      <td>2824.0</td>\n",
       "      <td>ohc</td>\n",
       "      <td>5</td>\n",
       "      <td>3.40</td>\n",
       "      <td>5500.0</td>\n",
       "      <td>expensive</td>\n",
       "    </tr>\n",
       "    <tr>\n",
       "      <th>4</th>\n",
       "      <td>std</td>\n",
       "      <td>66.30000</td>\n",
       "      <td>2507.0</td>\n",
       "      <td>ohc</td>\n",
       "      <td>5</td>\n",
       "      <td>3.40</td>\n",
       "      <td>5500.0</td>\n",
       "      <td>expensive</td>\n",
       "    </tr>\n",
       "    <tr>\n",
       "      <th>...</th>\n",
       "      <td>...</td>\n",
       "      <td>...</td>\n",
       "      <td>...</td>\n",
       "      <td>...</td>\n",
       "      <td>...</td>\n",
       "      <td>...</td>\n",
       "      <td>...</td>\n",
       "      <td>...</td>\n",
       "    </tr>\n",
       "    <tr>\n",
       "      <th>186</th>\n",
       "      <td>std</td>\n",
       "      <td>68.90000</td>\n",
       "      <td>2952.0</td>\n",
       "      <td>ohc</td>\n",
       "      <td>4</td>\n",
       "      <td>3.15</td>\n",
       "      <td>5400.0</td>\n",
       "      <td>expensive</td>\n",
       "    </tr>\n",
       "    <tr>\n",
       "      <th>187</th>\n",
       "      <td>turbo</td>\n",
       "      <td>68.80000</td>\n",
       "      <td>3049.0</td>\n",
       "      <td>ohc</td>\n",
       "      <td>4</td>\n",
       "      <td>3.15</td>\n",
       "      <td>5300.0</td>\n",
       "      <td>expensive</td>\n",
       "    </tr>\n",
       "    <tr>\n",
       "      <th>188</th>\n",
       "      <td>std</td>\n",
       "      <td>68.90000</td>\n",
       "      <td>3012.0</td>\n",
       "      <td>ohcv</td>\n",
       "      <td>6</td>\n",
       "      <td>2.87</td>\n",
       "      <td>5500.0</td>\n",
       "      <td>expensive</td>\n",
       "    </tr>\n",
       "    <tr>\n",
       "      <th>189</th>\n",
       "      <td>turbo</td>\n",
       "      <td>68.90000</td>\n",
       "      <td>3217.0</td>\n",
       "      <td>ohc</td>\n",
       "      <td>6</td>\n",
       "      <td>3.40</td>\n",
       "      <td>4800.0</td>\n",
       "      <td>expensive</td>\n",
       "    </tr>\n",
       "    <tr>\n",
       "      <th>190</th>\n",
       "      <td>turbo</td>\n",
       "      <td>68.90000</td>\n",
       "      <td>3062.0</td>\n",
       "      <td>ohc</td>\n",
       "      <td>4</td>\n",
       "      <td>3.15</td>\n",
       "      <td>5400.0</td>\n",
       "      <td>expensive</td>\n",
       "    </tr>\n",
       "  </tbody>\n",
       "</table>\n",
       "<p>191 rows × 8 columns</p>\n",
       "</div>"
      ],
      "text/plain": [
       "    aspiration  carwidth  curbweight enginetype  cylindernumber  stroke  \\\n",
       "0          std  64.10000      2548.0       dohc               4    2.68   \n",
       "1          std  65.50000      2823.0       ohcv               6    3.47   \n",
       "2          std  65.88794      2337.0        ohc               4    3.40   \n",
       "3          std  66.40000      2824.0        ohc               5    3.40   \n",
       "4          std  66.30000      2507.0        ohc               5    3.40   \n",
       "..         ...       ...         ...        ...             ...     ...   \n",
       "186        std  68.90000      2952.0        ohc               4    3.15   \n",
       "187      turbo  68.80000      3049.0        ohc               4    3.15   \n",
       "188        std  68.90000      3012.0       ohcv               6    2.87   \n",
       "189      turbo  68.90000      3217.0        ohc               6    3.40   \n",
       "190      turbo  68.90000      3062.0        ohc               4    3.15   \n",
       "\n",
       "     peakrpm      price  \n",
       "0     5000.0  expensive  \n",
       "1     5000.0  expensive  \n",
       "2     5500.0  expensive  \n",
       "3     5500.0  expensive  \n",
       "4     5500.0  expensive  \n",
       "..       ...        ...  \n",
       "186   5400.0  expensive  \n",
       "187   5300.0  expensive  \n",
       "188   5500.0  expensive  \n",
       "189   4800.0  expensive  \n",
       "190   5400.0  expensive  \n",
       "\n",
       "[191 rows x 8 columns]"
      ]
     },
     "execution_count": 10,
     "metadata": {},
     "output_type": "execute_result"
    }
   ],
   "source": [
    "cars=cars.drop_duplicates().reset_index(drop=True)\n",
    "cars"
   ]
  },
  {
   "cell_type": "markdown",
   "metadata": {},
   "source": [
    "## (1.2) Missing data"
   ]
  },
  {
   "cell_type": "markdown",
   "metadata": {},
   "source": [
    "What is the percentage of `NaN` for each feature?"
   ]
  },
  {
   "cell_type": "code",
   "execution_count": 11,
   "metadata": {
    "ExecuteTime": {
     "end_time": "2023-11-25T11:57:13.648602Z",
     "start_time": "2023-11-25T11:57:13.634507Z"
    },
    "tags": [
     "challengify"
    ]
   },
   "outputs": [
    {
     "data": {
      "text/plain": [
       "aspiration        0\n",
       "carwidth          0\n",
       "curbweight        0\n",
       "enginetype        0\n",
       "cylindernumber    0\n",
       "stroke            0\n",
       "peakrpm           0\n",
       "price             0\n",
       "dtype: int64"
      ]
     },
     "execution_count": 11,
     "metadata": {},
     "output_type": "execute_result"
    }
   ],
   "source": [
    "cars.isna().sum()"
   ]
  },
  {
   "cell_type": "markdown",
   "metadata": {},
   "source": [
    "We do not have missing values here.\n"
   ]
  },
  {
   "cell_type": "markdown",
   "metadata": {},
   "source": [
    "## (1.3) Defining the features $X$ and the target $y$"
   ]
  },
  {
   "cell_type": "markdown",
   "metadata": {},
   "source": [
    "Now, we store the features of this dataset in a variable X.\n",
    "And the target in a variable y."
   ]
  },
  {
   "cell_type": "code",
   "execution_count": 12,
   "metadata": {
    "ExecuteTime": {
     "end_time": "2023-11-25T11:57:17.339572Z",
     "start_time": "2023-11-25T11:57:17.325599Z"
    },
    "tags": [
     "challengify"
    ]
   },
   "outputs": [
    {
     "data": {
      "text/plain": [
       "((191, 7), (191,))"
      ]
     },
     "execution_count": 12,
     "metadata": {},
     "output_type": "execute_result"
    }
   ],
   "source": [
    "y=cars.price\n",
    "X=cars.drop(columns='price')\n",
    "X.shape, y.shape\n"
   ]
  },
  {
   "cell_type": "markdown",
   "metadata": {},
   "source": [
    "What is the proportion of \"cheap\" cars vs. \"expensive\" cars ? "
   ]
  },
  {
   "cell_type": "code",
   "execution_count": 13,
   "metadata": {
    "ExecuteTime": {
     "end_time": "2023-11-25T11:57:18.648121Z",
     "start_time": "2023-11-25T11:57:18.633782Z"
    },
    "tags": [
     "challengify"
    ]
   },
   "outputs": [
    {
     "data": {
      "text/plain": [
       "expensive    0.612565\n",
       "cheap        0.387435\n",
       "Name: price, dtype: float64"
      ]
     },
     "execution_count": 13,
     "metadata": {},
     "output_type": "execute_result"
    }
   ],
   "source": [
    "y.value_counts(normalize=True)\n"
   ]
  },
  {
   "cell_type": "markdown",
   "metadata": {},
   "source": [
    "## Train - test - split\n"
   ]
  },
  {
   "cell_type": "code",
   "execution_count": 14,
   "metadata": {
    "ExecuteTime": {
     "end_time": "2023-11-25T11:57:20.181971Z",
     "start_time": "2023-11-25T11:57:20.169279Z"
    }
   },
   "outputs": [
    {
     "data": {
      "text/plain": [
       "((133, 7), (58, 7), (133,), (58,))"
      ]
     },
     "execution_count": 14,
     "metadata": {},
     "output_type": "execute_result"
    }
   ],
   "source": [
    "X_train,X_test,y_train,y_test=train_test_split(X,y,test_size=0.3)\n",
    "\n",
    "X_train.shape,X_test.shape,y_train.shape,y_test.shape"
   ]
  },
  {
   "cell_type": "markdown",
   "metadata": {},
   "source": [
    "## (1.4) Scaling numerical features"
   ]
  },
  {
   "cell_type": "markdown",
   "metadata": {},
   "source": [
    "We have to scale our numerical features in order to get the best results for our model.\n",
    "Let's store the numerical columns of the cars dataset into `cars_num`."
   ]
  },
  {
   "cell_type": "code",
   "execution_count": 15,
   "metadata": {
    "ExecuteTime": {
     "end_time": "2023-11-25T11:57:22.165498Z",
     "start_time": "2023-11-25T11:57:22.155230Z"
    }
   },
   "outputs": [
    {
     "name": "stdout",
     "output_type": "stream",
     "text": [
      "<class 'pandas.core.frame.DataFrame'>\n",
      "Int64Index: 133 entries, 129 to 6\n",
      "Data columns (total 7 columns):\n",
      " #   Column          Non-Null Count  Dtype  \n",
      "---  ------          --------------  -----  \n",
      " 0   aspiration      133 non-null    object \n",
      " 1   carwidth        133 non-null    float64\n",
      " 2   curbweight      133 non-null    float64\n",
      " 3   enginetype      133 non-null    object \n",
      " 4   cylindernumber  133 non-null    int64  \n",
      " 5   stroke          133 non-null    float64\n",
      " 6   peakrpm         133 non-null    float64\n",
      "dtypes: float64(4), int64(1), object(2)\n",
      "memory usage: 8.3+ KB\n"
     ]
    }
   ],
   "source": [
    "X_train.info()\n"
   ]
  },
  {
   "cell_type": "code",
   "execution_count": 16,
   "metadata": {
    "ExecuteTime": {
     "end_time": "2023-11-25T11:57:24.374651Z",
     "start_time": "2023-11-25T11:57:24.362438Z"
    }
   },
   "outputs": [],
   "source": [
    "num_features = [\"carwidth\", \"curbweight\", \"cylindernumber\", \"stroke\", \"peakrpm\"]\n",
    "\n",
    "X_train_num = X_train[num_features]\n",
    "X_test_num = X_test[num_features]"
   ]
  },
  {
   "cell_type": "code",
   "execution_count": 17,
   "metadata": {
    "ExecuteTime": {
     "end_time": "2023-11-25T11:57:26.237928Z",
     "start_time": "2023-11-25T11:57:26.215871Z"
    }
   },
   "outputs": [
    {
     "data": {
      "text/html": [
       "<div>\n",
       "<style scoped>\n",
       "    .dataframe tbody tr th:only-of-type {\n",
       "        vertical-align: middle;\n",
       "    }\n",
       "\n",
       "    .dataframe tbody tr th {\n",
       "        vertical-align: top;\n",
       "    }\n",
       "\n",
       "    .dataframe thead th {\n",
       "        text-align: right;\n",
       "    }\n",
       "</style>\n",
       "<table border=\"1\" class=\"dataframe\">\n",
       "  <thead>\n",
       "    <tr style=\"text-align: right;\">\n",
       "      <th></th>\n",
       "      <th>carwidth</th>\n",
       "      <th>curbweight</th>\n",
       "      <th>cylindernumber</th>\n",
       "      <th>stroke</th>\n",
       "      <th>peakrpm</th>\n",
       "    </tr>\n",
       "  </thead>\n",
       "  <tbody>\n",
       "    <tr>\n",
       "      <th>129</th>\n",
       "      <td>65.40000</td>\n",
       "      <td>2145.0</td>\n",
       "      <td>4</td>\n",
       "      <td>2.640</td>\n",
       "      <td>4800.0</td>\n",
       "    </tr>\n",
       "    <tr>\n",
       "      <th>173</th>\n",
       "      <td>65.50000</td>\n",
       "      <td>2319.0</td>\n",
       "      <td>4</td>\n",
       "      <td>3.400</td>\n",
       "      <td>4500.0</td>\n",
       "    </tr>\n",
       "    <tr>\n",
       "      <th>22</th>\n",
       "      <td>63.80000</td>\n",
       "      <td>1989.0</td>\n",
       "      <td>4</td>\n",
       "      <td>3.230</td>\n",
       "      <td>5500.0</td>\n",
       "    </tr>\n",
       "    <tr>\n",
       "      <th>101</th>\n",
       "      <td>68.40000</td>\n",
       "      <td>3020.0</td>\n",
       "      <td>4</td>\n",
       "      <td>3.190</td>\n",
       "      <td>5000.0</td>\n",
       "    </tr>\n",
       "    <tr>\n",
       "      <th>74</th>\n",
       "      <td>65.40000</td>\n",
       "      <td>2370.0</td>\n",
       "      <td>4</td>\n",
       "      <td>3.460</td>\n",
       "      <td>5500.0</td>\n",
       "    </tr>\n",
       "    <tr>\n",
       "      <th>...</th>\n",
       "      <td>...</td>\n",
       "      <td>...</td>\n",
       "      <td>...</td>\n",
       "      <td>...</td>\n",
       "      <td>...</td>\n",
       "    </tr>\n",
       "    <tr>\n",
       "      <th>17</th>\n",
       "      <td>65.88794</td>\n",
       "      <td>1874.0</td>\n",
       "      <td>4</td>\n",
       "      <td>3.110</td>\n",
       "      <td>5400.0</td>\n",
       "    </tr>\n",
       "    <tr>\n",
       "      <th>113</th>\n",
       "      <td>66.30000</td>\n",
       "      <td>2818.0</td>\n",
       "      <td>4</td>\n",
       "      <td>3.860</td>\n",
       "      <td>5000.0</td>\n",
       "    </tr>\n",
       "    <tr>\n",
       "      <th>31</th>\n",
       "      <td>64.00000</td>\n",
       "      <td>2010.0</td>\n",
       "      <td>4</td>\n",
       "      <td>3.410</td>\n",
       "      <td>6000.0</td>\n",
       "    </tr>\n",
       "    <tr>\n",
       "      <th>50</th>\n",
       "      <td>65.70000</td>\n",
       "      <td>2380.0</td>\n",
       "      <td>2</td>\n",
       "      <td>3.255</td>\n",
       "      <td>6000.0</td>\n",
       "    </tr>\n",
       "    <tr>\n",
       "      <th>6</th>\n",
       "      <td>65.88794</td>\n",
       "      <td>2954.0</td>\n",
       "      <td>5</td>\n",
       "      <td>3.400</td>\n",
       "      <td>5500.0</td>\n",
       "    </tr>\n",
       "  </tbody>\n",
       "</table>\n",
       "<p>133 rows × 5 columns</p>\n",
       "</div>"
      ],
      "text/plain": [
       "     carwidth  curbweight  cylindernumber  stroke  peakrpm\n",
       "129  65.40000      2145.0               4   2.640   4800.0\n",
       "173  65.50000      2319.0               4   3.400   4500.0\n",
       "22   63.80000      1989.0               4   3.230   5500.0\n",
       "101  68.40000      3020.0               4   3.190   5000.0\n",
       "74   65.40000      2370.0               4   3.460   5500.0\n",
       "..        ...         ...             ...     ...      ...\n",
       "17   65.88794      1874.0               4   3.110   5400.0\n",
       "113  66.30000      2818.0               4   3.860   5000.0\n",
       "31   64.00000      2010.0               4   3.410   6000.0\n",
       "50   65.70000      2380.0               2   3.255   6000.0\n",
       "6    65.88794      2954.0               5   3.400   5500.0\n",
       "\n",
       "[133 rows x 5 columns]"
      ]
     },
     "execution_count": 17,
     "metadata": {},
     "output_type": "execute_result"
    }
   ],
   "source": [
    "X_train_num\n"
   ]
  },
  {
   "cell_type": "code",
   "execution_count": 18,
   "metadata": {
    "ExecuteTime": {
     "end_time": "2023-11-25T11:57:29.753973Z",
     "start_time": "2023-11-25T11:57:29.724816Z"
    },
    "scrolled": true
   },
   "outputs": [
    {
     "data": {
      "text/html": [
       "<div>\n",
       "<style scoped>\n",
       "    .dataframe tbody tr th:only-of-type {\n",
       "        vertical-align: middle;\n",
       "    }\n",
       "\n",
       "    .dataframe tbody tr th {\n",
       "        vertical-align: top;\n",
       "    }\n",
       "\n",
       "    .dataframe thead th {\n",
       "        text-align: right;\n",
       "    }\n",
       "</style>\n",
       "<table border=\"1\" class=\"dataframe\">\n",
       "  <thead>\n",
       "    <tr style=\"text-align: right;\">\n",
       "      <th></th>\n",
       "      <th>carwidth</th>\n",
       "      <th>curbweight</th>\n",
       "      <th>cylindernumber</th>\n",
       "      <th>stroke</th>\n",
       "      <th>peakrpm</th>\n",
       "    </tr>\n",
       "  </thead>\n",
       "  <tbody>\n",
       "    <tr>\n",
       "      <th>169</th>\n",
       "      <td>65.50000</td>\n",
       "      <td>2209.0</td>\n",
       "      <td>4</td>\n",
       "      <td>3.40</td>\n",
       "      <td>5250.0</td>\n",
       "    </tr>\n",
       "    <tr>\n",
       "      <th>33</th>\n",
       "      <td>65.20000</td>\n",
       "      <td>2236.0</td>\n",
       "      <td>4</td>\n",
       "      <td>3.58</td>\n",
       "      <td>5800.0</td>\n",
       "    </tr>\n",
       "    <tr>\n",
       "      <th>8</th>\n",
       "      <td>67.90000</td>\n",
       "      <td>3053.0</td>\n",
       "      <td>5</td>\n",
       "      <td>3.40</td>\n",
       "      <td>5500.0</td>\n",
       "    </tr>\n",
       "    <tr>\n",
       "      <th>29</th>\n",
       "      <td>64.00000</td>\n",
       "      <td>1940.0</td>\n",
       "      <td>4</td>\n",
       "      <td>3.41</td>\n",
       "      <td>6000.0</td>\n",
       "    </tr>\n",
       "    <tr>\n",
       "      <th>11</th>\n",
       "      <td>64.80000</td>\n",
       "      <td>2765.0</td>\n",
       "      <td>6</td>\n",
       "      <td>3.19</td>\n",
       "      <td>4250.0</td>\n",
       "    </tr>\n",
       "    <tr>\n",
       "      <th>150</th>\n",
       "      <td>64.00000</td>\n",
       "      <td>2169.0</td>\n",
       "      <td>4</td>\n",
       "      <td>3.03</td>\n",
       "      <td>4800.0</td>\n",
       "    </tr>\n",
       "    <tr>\n",
       "      <th>105</th>\n",
       "      <td>68.40000</td>\n",
       "      <td>3075.0</td>\n",
       "      <td>4</td>\n",
       "      <td>2.19</td>\n",
       "      <td>5000.0</td>\n",
       "    </tr>\n",
       "    <tr>\n",
       "      <th>146</th>\n",
       "      <td>64.40000</td>\n",
       "      <td>2275.0</td>\n",
       "      <td>4</td>\n",
       "      <td>3.35</td>\n",
       "      <td>4500.0</td>\n",
       "    </tr>\n",
       "    <tr>\n",
       "      <th>136</th>\n",
       "      <td>65.40000</td>\n",
       "      <td>2420.0</td>\n",
       "      <td>4</td>\n",
       "      <td>2.64</td>\n",
       "      <td>4800.0</td>\n",
       "    </tr>\n",
       "    <tr>\n",
       "      <th>184</th>\n",
       "      <td>67.20000</td>\n",
       "      <td>3045.0</td>\n",
       "      <td>4</td>\n",
       "      <td>3.15</td>\n",
       "      <td>5100.0</td>\n",
       "    </tr>\n",
       "    <tr>\n",
       "      <th>172</th>\n",
       "      <td>65.50000</td>\n",
       "      <td>2275.0</td>\n",
       "      <td>4</td>\n",
       "      <td>3.40</td>\n",
       "      <td>5250.0</td>\n",
       "    </tr>\n",
       "    <tr>\n",
       "      <th>44</th>\n",
       "      <td>70.60000</td>\n",
       "      <td>3950.0</td>\n",
       "      <td>12</td>\n",
       "      <td>2.76</td>\n",
       "      <td>5000.0</td>\n",
       "    </tr>\n",
       "    <tr>\n",
       "      <th>137</th>\n",
       "      <td>65.40000</td>\n",
       "      <td>2650.0</td>\n",
       "      <td>4</td>\n",
       "      <td>2.64</td>\n",
       "      <td>4800.0</td>\n",
       "    </tr>\n",
       "    <tr>\n",
       "      <th>15</th>\n",
       "      <td>70.90000</td>\n",
       "      <td>3505.0</td>\n",
       "      <td>6</td>\n",
       "      <td>3.39</td>\n",
       "      <td>5400.0</td>\n",
       "    </tr>\n",
       "    <tr>\n",
       "      <th>21</th>\n",
       "      <td>63.80000</td>\n",
       "      <td>1967.0</td>\n",
       "      <td>4</td>\n",
       "      <td>3.23</td>\n",
       "      <td>5500.0</td>\n",
       "    </tr>\n",
       "    <tr>\n",
       "      <th>43</th>\n",
       "      <td>65.88794</td>\n",
       "      <td>4066.0</td>\n",
       "      <td>6</td>\n",
       "      <td>4.17</td>\n",
       "      <td>4750.0</td>\n",
       "    </tr>\n",
       "    <tr>\n",
       "      <th>156</th>\n",
       "      <td>65.60000</td>\n",
       "      <td>2551.0</td>\n",
       "      <td>4</td>\n",
       "      <td>3.50</td>\n",
       "      <td>4800.0</td>\n",
       "    </tr>\n",
       "    <tr>\n",
       "      <th>149</th>\n",
       "      <td>64.40000</td>\n",
       "      <td>2140.0</td>\n",
       "      <td>4</td>\n",
       "      <td>3.03</td>\n",
       "      <td>4800.0</td>\n",
       "    </tr>\n",
       "    <tr>\n",
       "      <th>115</th>\n",
       "      <td>65.00000</td>\n",
       "      <td>2756.0</td>\n",
       "      <td>6</td>\n",
       "      <td>2.90</td>\n",
       "      <td>5900.0</td>\n",
       "    </tr>\n",
       "    <tr>\n",
       "      <th>103</th>\n",
       "      <td>68.40000</td>\n",
       "      <td>3230.0</td>\n",
       "      <td>4</td>\n",
       "      <td>3.19</td>\n",
       "      <td>5000.0</td>\n",
       "    </tr>\n",
       "    <tr>\n",
       "      <th>164</th>\n",
       "      <td>67.70000</td>\n",
       "      <td>2976.0</td>\n",
       "      <td>6</td>\n",
       "      <td>3.35</td>\n",
       "      <td>5200.0</td>\n",
       "    </tr>\n",
       "    <tr>\n",
       "      <th>36</th>\n",
       "      <td>65.88794</td>\n",
       "      <td>2372.0</td>\n",
       "      <td>4</td>\n",
       "      <td>3.58</td>\n",
       "      <td>5800.0</td>\n",
       "    </tr>\n",
       "    <tr>\n",
       "      <th>81</th>\n",
       "      <td>65.40000</td>\n",
       "      <td>2403.0</td>\n",
       "      <td>4</td>\n",
       "      <td>3.46</td>\n",
       "      <td>5500.0</td>\n",
       "    </tr>\n",
       "    <tr>\n",
       "      <th>162</th>\n",
       "      <td>66.50000</td>\n",
       "      <td>2414.0</td>\n",
       "      <td>4</td>\n",
       "      <td>3.54</td>\n",
       "      <td>4200.0</td>\n",
       "    </tr>\n",
       "    <tr>\n",
       "      <th>87</th>\n",
       "      <td>63.80000</td>\n",
       "      <td>2024.0</td>\n",
       "      <td>4</td>\n",
       "      <td>3.29</td>\n",
       "      <td>5200.0</td>\n",
       "    </tr>\n",
       "    <tr>\n",
       "      <th>72</th>\n",
       "      <td>64.40000</td>\n",
       "      <td>2004.0</td>\n",
       "      <td>4</td>\n",
       "      <td>3.23</td>\n",
       "      <td>5500.0</td>\n",
       "    </tr>\n",
       "    <tr>\n",
       "      <th>112</th>\n",
       "      <td>63.80000</td>\n",
       "      <td>2191.0</td>\n",
       "      <td>4</td>\n",
       "      <td>3.23</td>\n",
       "      <td>5500.0</td>\n",
       "    </tr>\n",
       "    <tr>\n",
       "      <th>67</th>\n",
       "      <td>71.70000</td>\n",
       "      <td>3900.0</td>\n",
       "      <td>8</td>\n",
       "      <td>3.35</td>\n",
       "      <td>4500.0</td>\n",
       "    </tr>\n",
       "    <tr>\n",
       "      <th>119</th>\n",
       "      <td>66.60000</td>\n",
       "      <td>2460.0</td>\n",
       "      <td>4</td>\n",
       "      <td>3.90</td>\n",
       "      <td>5100.0</td>\n",
       "    </tr>\n",
       "    <tr>\n",
       "      <th>45</th>\n",
       "      <td>64.20000</td>\n",
       "      <td>1890.0</td>\n",
       "      <td>4</td>\n",
       "      <td>3.15</td>\n",
       "      <td>5000.0</td>\n",
       "    </tr>\n",
       "    <tr>\n",
       "      <th>42</th>\n",
       "      <td>69.60000</td>\n",
       "      <td>4066.0</td>\n",
       "      <td>6</td>\n",
       "      <td>4.17</td>\n",
       "      <td>4750.0</td>\n",
       "    </tr>\n",
       "    <tr>\n",
       "      <th>187</th>\n",
       "      <td>68.80000</td>\n",
       "      <td>3049.0</td>\n",
       "      <td>4</td>\n",
       "      <td>3.15</td>\n",
       "      <td>5300.0</td>\n",
       "    </tr>\n",
       "    <tr>\n",
       "      <th>123</th>\n",
       "      <td>66.50000</td>\n",
       "      <td>2758.0</td>\n",
       "      <td>4</td>\n",
       "      <td>3.07</td>\n",
       "      <td>5250.0</td>\n",
       "    </tr>\n",
       "    <tr>\n",
       "      <th>125</th>\n",
       "      <td>66.50000</td>\n",
       "      <td>2847.0</td>\n",
       "      <td>4</td>\n",
       "      <td>3.07</td>\n",
       "      <td>5500.0</td>\n",
       "    </tr>\n",
       "    <tr>\n",
       "      <th>80</th>\n",
       "      <td>65.40000</td>\n",
       "      <td>2405.0</td>\n",
       "      <td>4</td>\n",
       "      <td>3.46</td>\n",
       "      <td>5000.0</td>\n",
       "    </tr>\n",
       "    <tr>\n",
       "      <th>135</th>\n",
       "      <td>65.40000</td>\n",
       "      <td>2455.0</td>\n",
       "      <td>4</td>\n",
       "      <td>2.64</td>\n",
       "      <td>5200.0</td>\n",
       "    </tr>\n",
       "    <tr>\n",
       "      <th>189</th>\n",
       "      <td>68.90000</td>\n",
       "      <td>3217.0</td>\n",
       "      <td>6</td>\n",
       "      <td>3.40</td>\n",
       "      <td>4800.0</td>\n",
       "    </tr>\n",
       "    <tr>\n",
       "      <th>24</th>\n",
       "      <td>64.60000</td>\n",
       "      <td>2535.0</td>\n",
       "      <td>4</td>\n",
       "      <td>3.46</td>\n",
       "      <td>5000.0</td>\n",
       "    </tr>\n",
       "    <tr>\n",
       "      <th>93</th>\n",
       "      <td>65.20000</td>\n",
       "      <td>2324.0</td>\n",
       "      <td>4</td>\n",
       "      <td>3.47</td>\n",
       "      <td>5200.0</td>\n",
       "    </tr>\n",
       "    <tr>\n",
       "      <th>158</th>\n",
       "      <td>65.60000</td>\n",
       "      <td>2714.0</td>\n",
       "      <td>4</td>\n",
       "      <td>3.50</td>\n",
       "      <td>4800.0</td>\n",
       "    </tr>\n",
       "    <tr>\n",
       "      <th>100</th>\n",
       "      <td>67.90000</td>\n",
       "      <td>3139.0</td>\n",
       "      <td>6</td>\n",
       "      <td>3.27</td>\n",
       "      <td>5200.0</td>\n",
       "    </tr>\n",
       "    <tr>\n",
       "      <th>133</th>\n",
       "      <td>65.40000</td>\n",
       "      <td>2510.0</td>\n",
       "      <td>4</td>\n",
       "      <td>2.64</td>\n",
       "      <td>4800.0</td>\n",
       "    </tr>\n",
       "    <tr>\n",
       "      <th>121</th>\n",
       "      <td>66.50000</td>\n",
       "      <td>2695.0</td>\n",
       "      <td>4</td>\n",
       "      <td>3.07</td>\n",
       "      <td>5250.0</td>\n",
       "    </tr>\n",
       "    <tr>\n",
       "      <th>111</th>\n",
       "      <td>63.80000</td>\n",
       "      <td>1918.0</td>\n",
       "      <td>4</td>\n",
       "      <td>3.23</td>\n",
       "      <td>5500.0</td>\n",
       "    </tr>\n",
       "    <tr>\n",
       "      <th>60</th>\n",
       "      <td>65.88794</td>\n",
       "      <td>2700.0</td>\n",
       "      <td>4</td>\n",
       "      <td>3.64</td>\n",
       "      <td>4200.0</td>\n",
       "    </tr>\n",
       "    <tr>\n",
       "      <th>109</th>\n",
       "      <td>68.40000</td>\n",
       "      <td>3075.0</td>\n",
       "      <td>4</td>\n",
       "      <td>3.19</td>\n",
       "      <td>5000.0</td>\n",
       "    </tr>\n",
       "    <tr>\n",
       "      <th>165</th>\n",
       "      <td>67.70000</td>\n",
       "      <td>3016.0</td>\n",
       "      <td>6</td>\n",
       "      <td>3.35</td>\n",
       "      <td>5200.0</td>\n",
       "    </tr>\n",
       "    <tr>\n",
       "      <th>16</th>\n",
       "      <td>60.30000</td>\n",
       "      <td>1488.0</td>\n",
       "      <td>3</td>\n",
       "      <td>3.03</td>\n",
       "      <td>5100.0</td>\n",
       "    </tr>\n",
       "    <tr>\n",
       "      <th>151</th>\n",
       "      <td>64.00000</td>\n",
       "      <td>2204.0</td>\n",
       "      <td>4</td>\n",
       "      <td>3.03</td>\n",
       "      <td>4800.0</td>\n",
       "    </tr>\n",
       "    <tr>\n",
       "      <th>122</th>\n",
       "      <td>66.50000</td>\n",
       "      <td>2707.0</td>\n",
       "      <td>4</td>\n",
       "      <td>2.07</td>\n",
       "      <td>5250.0</td>\n",
       "    </tr>\n",
       "    <tr>\n",
       "      <th>161</th>\n",
       "      <td>66.50000</td>\n",
       "      <td>2480.0</td>\n",
       "      <td>4</td>\n",
       "      <td>3.35</td>\n",
       "      <td>4500.0</td>\n",
       "    </tr>\n",
       "    <tr>\n",
       "      <th>65</th>\n",
       "      <td>71.70000</td>\n",
       "      <td>3740.0</td>\n",
       "      <td>8</td>\n",
       "      <td>3.10</td>\n",
       "      <td>4750.0</td>\n",
       "    </tr>\n",
       "    <tr>\n",
       "      <th>132</th>\n",
       "      <td>65.40000</td>\n",
       "      <td>2385.0</td>\n",
       "      <td>4</td>\n",
       "      <td>2.64</td>\n",
       "      <td>4800.0</td>\n",
       "    </tr>\n",
       "    <tr>\n",
       "      <th>182</th>\n",
       "      <td>67.20000</td>\n",
       "      <td>2935.0</td>\n",
       "      <td>4</td>\n",
       "      <td>3.15</td>\n",
       "      <td>5400.0</td>\n",
       "    </tr>\n",
       "    <tr>\n",
       "      <th>97</th>\n",
       "      <td>66.50000</td>\n",
       "      <td>3060.0</td>\n",
       "      <td>6</td>\n",
       "      <td>3.27</td>\n",
       "      <td>5200.0</td>\n",
       "    </tr>\n",
       "    <tr>\n",
       "      <th>96</th>\n",
       "      <td>66.50000</td>\n",
       "      <td>3296.0</td>\n",
       "      <td>6</td>\n",
       "      <td>3.27</td>\n",
       "      <td>5200.0</td>\n",
       "    </tr>\n",
       "    <tr>\n",
       "      <th>157</th>\n",
       "      <td>65.60000</td>\n",
       "      <td>2679.0</td>\n",
       "      <td>4</td>\n",
       "      <td>3.50</td>\n",
       "      <td>4800.0</td>\n",
       "    </tr>\n",
       "    <tr>\n",
       "      <th>55</th>\n",
       "      <td>66.50000</td>\n",
       "      <td>2385.0</td>\n",
       "      <td>4</td>\n",
       "      <td>3.39</td>\n",
       "      <td>4800.0</td>\n",
       "    </tr>\n",
       "  </tbody>\n",
       "</table>\n",
       "</div>"
      ],
      "text/plain": [
       "     carwidth  curbweight  cylindernumber  stroke  peakrpm\n",
       "169  65.50000      2209.0               4    3.40   5250.0\n",
       "33   65.20000      2236.0               4    3.58   5800.0\n",
       "8    67.90000      3053.0               5    3.40   5500.0\n",
       "29   64.00000      1940.0               4    3.41   6000.0\n",
       "11   64.80000      2765.0               6    3.19   4250.0\n",
       "150  64.00000      2169.0               4    3.03   4800.0\n",
       "105  68.40000      3075.0               4    2.19   5000.0\n",
       "146  64.40000      2275.0               4    3.35   4500.0\n",
       "136  65.40000      2420.0               4    2.64   4800.0\n",
       "184  67.20000      3045.0               4    3.15   5100.0\n",
       "172  65.50000      2275.0               4    3.40   5250.0\n",
       "44   70.60000      3950.0              12    2.76   5000.0\n",
       "137  65.40000      2650.0               4    2.64   4800.0\n",
       "15   70.90000      3505.0               6    3.39   5400.0\n",
       "21   63.80000      1967.0               4    3.23   5500.0\n",
       "43   65.88794      4066.0               6    4.17   4750.0\n",
       "156  65.60000      2551.0               4    3.50   4800.0\n",
       "149  64.40000      2140.0               4    3.03   4800.0\n",
       "115  65.00000      2756.0               6    2.90   5900.0\n",
       "103  68.40000      3230.0               4    3.19   5000.0\n",
       "164  67.70000      2976.0               6    3.35   5200.0\n",
       "36   65.88794      2372.0               4    3.58   5800.0\n",
       "81   65.40000      2403.0               4    3.46   5500.0\n",
       "162  66.50000      2414.0               4    3.54   4200.0\n",
       "87   63.80000      2024.0               4    3.29   5200.0\n",
       "72   64.40000      2004.0               4    3.23   5500.0\n",
       "112  63.80000      2191.0               4    3.23   5500.0\n",
       "67   71.70000      3900.0               8    3.35   4500.0\n",
       "119  66.60000      2460.0               4    3.90   5100.0\n",
       "45   64.20000      1890.0               4    3.15   5000.0\n",
       "42   69.60000      4066.0               6    4.17   4750.0\n",
       "187  68.80000      3049.0               4    3.15   5300.0\n",
       "123  66.50000      2758.0               4    3.07   5250.0\n",
       "125  66.50000      2847.0               4    3.07   5500.0\n",
       "80   65.40000      2405.0               4    3.46   5000.0\n",
       "135  65.40000      2455.0               4    2.64   5200.0\n",
       "189  68.90000      3217.0               6    3.40   4800.0\n",
       "24   64.60000      2535.0               4    3.46   5000.0\n",
       "93   65.20000      2324.0               4    3.47   5200.0\n",
       "158  65.60000      2714.0               4    3.50   4800.0\n",
       "100  67.90000      3139.0               6    3.27   5200.0\n",
       "133  65.40000      2510.0               4    2.64   4800.0\n",
       "121  66.50000      2695.0               4    3.07   5250.0\n",
       "111  63.80000      1918.0               4    3.23   5500.0\n",
       "60   65.88794      2700.0               4    3.64   4200.0\n",
       "109  68.40000      3075.0               4    3.19   5000.0\n",
       "165  67.70000      3016.0               6    3.35   5200.0\n",
       "16   60.30000      1488.0               3    3.03   5100.0\n",
       "151  64.00000      2204.0               4    3.03   4800.0\n",
       "122  66.50000      2707.0               4    2.07   5250.0\n",
       "161  66.50000      2480.0               4    3.35   4500.0\n",
       "65   71.70000      3740.0               8    3.10   4750.0\n",
       "132  65.40000      2385.0               4    2.64   4800.0\n",
       "182  67.20000      2935.0               4    3.15   5400.0\n",
       "97   66.50000      3060.0               6    3.27   5200.0\n",
       "96   66.50000      3296.0               6    3.27   5200.0\n",
       "157  65.60000      2679.0               4    3.50   4800.0\n",
       "55   66.50000      2385.0               4    3.39   4800.0"
      ]
     },
     "execution_count": 18,
     "metadata": {},
     "output_type": "execute_result"
    }
   ],
   "source": [
    "X_test_num\n"
   ]
  },
  {
   "cell_type": "markdown",
   "metadata": {},
   "source": [
    "Robust Scaling all the numerical features is a quick and efficient way of scaling."
   ]
  },
  {
   "cell_type": "code",
   "execution_count": 19,
   "metadata": {
    "ExecuteTime": {
     "end_time": "2023-11-25T11:57:42.117343Z",
     "start_time": "2023-11-25T11:57:42.102483Z"
    }
   },
   "outputs": [],
   "source": [
    "#Instantiate scaler\n",
    "scaler=RobustScaler()\n",
    "\n",
    "#Fit on the train set\n",
    "scaler.fit(X_train_num)\n",
    "\n",
    "#transform train set and test set\n",
    "X_train_num=pd.DataFrame(scaler.transform(X_train_num),columns=X_train_num.columns)\n",
    "X_test_num=pd.DataFrame(scaler.transform(X_test_num),columns=X_test_num.columns)\n",
    "\n"
   ]
  },
  {
   "cell_type": "markdown",
   "metadata": {},
   "source": [
    "## (1.5) Encoding categorical features"
   ]
  },
  {
   "cell_type": "markdown",
   "metadata": {},
   "source": [
    "Now we should store the categorical columns of the cars dataset into `cars_categorical`."
   ]
  },
  {
   "cell_type": "code",
   "execution_count": 20,
   "metadata": {
    "ExecuteTime": {
     "end_time": "2023-11-25T11:57:44.607062Z",
     "start_time": "2023-11-25T11:57:44.591250Z"
    }
   },
   "outputs": [
    {
     "name": "stdout",
     "output_type": "stream",
     "text": [
      "<class 'pandas.core.frame.DataFrame'>\n",
      "Int64Index: 133 entries, 129 to 6\n",
      "Data columns (total 7 columns):\n",
      " #   Column          Non-Null Count  Dtype  \n",
      "---  ------          --------------  -----  \n",
      " 0   aspiration      133 non-null    object \n",
      " 1   carwidth        133 non-null    float64\n",
      " 2   curbweight      133 non-null    float64\n",
      " 3   enginetype      133 non-null    object \n",
      " 4   cylindernumber  133 non-null    int64  \n",
      " 5   stroke          133 non-null    float64\n",
      " 6   peakrpm         133 non-null    float64\n",
      "dtypes: float64(4), int64(1), object(2)\n",
      "memory usage: 8.3+ KB\n"
     ]
    }
   ],
   "source": [
    "X_train.info()"
   ]
  },
  {
   "cell_type": "code",
   "execution_count": 21,
   "metadata": {
    "ExecuteTime": {
     "end_time": "2023-11-25T11:57:46.345836Z",
     "start_time": "2023-11-25T11:57:46.337127Z"
    }
   },
   "outputs": [],
   "source": [
    "categorical_features = [\"aspiration\", \"enginetype\"]\n",
    "X_train_cat = X_train[categorical_features]\n",
    "X_test_cat= X_test[categorical_features]"
   ]
  },
  {
   "cell_type": "code",
   "execution_count": 22,
   "metadata": {
    "ExecuteTime": {
     "end_time": "2023-11-25T11:57:47.656269Z",
     "start_time": "2023-11-25T11:57:47.642154Z"
    }
   },
   "outputs": [
    {
     "data": {
      "text/html": [
       "<div>\n",
       "<style scoped>\n",
       "    .dataframe tbody tr th:only-of-type {\n",
       "        vertical-align: middle;\n",
       "    }\n",
       "\n",
       "    .dataframe tbody tr th {\n",
       "        vertical-align: top;\n",
       "    }\n",
       "\n",
       "    .dataframe thead th {\n",
       "        text-align: right;\n",
       "    }\n",
       "</style>\n",
       "<table border=\"1\" class=\"dataframe\">\n",
       "  <thead>\n",
       "    <tr style=\"text-align: right;\">\n",
       "      <th></th>\n",
       "      <th>aspiration</th>\n",
       "      <th>enginetype</th>\n",
       "    </tr>\n",
       "  </thead>\n",
       "  <tbody>\n",
       "    <tr>\n",
       "      <th>129</th>\n",
       "      <td>std</td>\n",
       "      <td>ohcf</td>\n",
       "    </tr>\n",
       "    <tr>\n",
       "      <th>173</th>\n",
       "      <td>turbo</td>\n",
       "      <td>ohc</td>\n",
       "    </tr>\n",
       "    <tr>\n",
       "      <th>22</th>\n",
       "      <td>std</td>\n",
       "      <td>ohc</td>\n",
       "    </tr>\n",
       "    <tr>\n",
       "      <th>101</th>\n",
       "      <td>std</td>\n",
       "      <td>l</td>\n",
       "    </tr>\n",
       "    <tr>\n",
       "      <th>74</th>\n",
       "      <td>turbo</td>\n",
       "      <td>ohc</td>\n",
       "    </tr>\n",
       "    <tr>\n",
       "      <th>...</th>\n",
       "      <td>...</td>\n",
       "      <td>...</td>\n",
       "    </tr>\n",
       "    <tr>\n",
       "      <th>17</th>\n",
       "      <td>std</td>\n",
       "      <td>ohc</td>\n",
       "    </tr>\n",
       "    <tr>\n",
       "      <th>113</th>\n",
       "      <td>turbo</td>\n",
       "      <td>ohc</td>\n",
       "    </tr>\n",
       "    <tr>\n",
       "      <th>31</th>\n",
       "      <td>std</td>\n",
       "      <td>ohc</td>\n",
       "    </tr>\n",
       "    <tr>\n",
       "      <th>50</th>\n",
       "      <td>std</td>\n",
       "      <td>rotor</td>\n",
       "    </tr>\n",
       "    <tr>\n",
       "      <th>6</th>\n",
       "      <td>std</td>\n",
       "      <td>ohc</td>\n",
       "    </tr>\n",
       "  </tbody>\n",
       "</table>\n",
       "<p>133 rows × 2 columns</p>\n",
       "</div>"
      ],
      "text/plain": [
       "    aspiration enginetype\n",
       "129        std       ohcf\n",
       "173      turbo        ohc\n",
       "22         std        ohc\n",
       "101        std          l\n",
       "74       turbo        ohc\n",
       "..         ...        ...\n",
       "17         std        ohc\n",
       "113      turbo        ohc\n",
       "31         std        ohc\n",
       "50         std      rotor\n",
       "6          std        ohc\n",
       "\n",
       "[133 rows x 2 columns]"
      ]
     },
     "execution_count": 22,
     "metadata": {},
     "output_type": "execute_result"
    }
   ],
   "source": [
    "X_train_cat\n"
   ]
  },
  {
   "cell_type": "markdown",
   "metadata": {},
   "source": [
    "What is the expected number of columns generated if we encode the categorical features ?"
   ]
  },
  {
   "cell_type": "code",
   "execution_count": 23,
   "metadata": {
    "ExecuteTime": {
     "end_time": "2023-11-25T11:57:50.912530Z",
     "start_time": "2023-11-25T11:57:50.898783Z"
    },
    "tags": [
     "challengify"
    ]
   },
   "outputs": [
    {
     "data": {
      "text/plain": [
       "aspiration    2\n",
       "enginetype    7\n",
       "dtype: int64"
      ]
     },
     "execution_count": 23,
     "metadata": {},
     "output_type": "execute_result"
    }
   ],
   "source": [
    "X_train_cat.nunique()"
   ]
  },
  {
   "cell_type": "markdown",
   "metadata": {},
   "source": [
    "Using OneHotEncoder, we can encode our categorical features."
   ]
  },
  {
   "cell_type": "code",
   "execution_count": null,
   "metadata": {},
   "outputs": [],
   "source": [
    "ohe=OneHotEncoder(drop='if_binary',sparse=False,handle_unknown=\"ignore\")\n",
    "\n",
    "#Fit on the train set\n",
    "ohe.fit(X_train_cat)"
   ]
  },
  {
   "cell_type": "code",
   "execution_count": 27,
   "metadata": {
    "ExecuteTime": {
     "end_time": "2023-11-25T11:59:01.277139Z",
     "start_time": "2023-11-25T11:59:01.266248Z"
    }
   },
   "outputs": [
    {
     "data": {
      "text/plain": [
       "array(['aspiration_turbo', 'enginetype_dohc', 'enginetype_dohcv',\n",
       "       'enginetype_l', 'enginetype_ohc', 'enginetype_ohcf',\n",
       "       'enginetype_ohcv', 'enginetype_rotor'], dtype=object)"
      ]
     },
     "execution_count": 27,
     "metadata": {},
     "output_type": "execute_result"
    }
   ],
   "source": [
    "# We can retrieve the names of the encoded columns with the function get_feature_names_out()\n",
    "\n",
    "ohe.get_feature_names_out()"
   ]
  },
  {
   "cell_type": "code",
   "execution_count": 26,
   "metadata": {
    "ExecuteTime": {
     "end_time": "2023-11-25T11:58:54.948437Z",
     "start_time": "2023-11-25T11:58:54.932412Z"
    },
    "scrolled": true,
    "tags": [
     "challengify"
    ]
   },
   "outputs": [],
   "source": [
    "#transform train set and test set\n",
    "X_train_cat=pd.DataFrame(ohe.transform(X_train_cat),columns=ohe.get_feature_names_out())\n",
    "X_test_cat=pd.DataFrame(ohe.transform(X_test_cat),columns=ohe.get_feature_names_out())"
   ]
  },
  {
   "cell_type": "markdown",
   "metadata": {},
   "source": [
    "## (1.6) Concatenating all the preprocessed features together $X_{preprocessed}$"
   ]
  },
  {
   "cell_type": "markdown",
   "metadata": {},
   "source": [
    "Let's concatenate `cars_num_scaled` and `cars_categorical` into `X_preprocessed`."
   ]
  },
  {
   "cell_type": "code",
   "execution_count": 28,
   "metadata": {
    "ExecuteTime": {
     "end_time": "2023-11-25T11:59:03.364925Z",
     "start_time": "2023-11-25T11:59:03.340535Z"
    },
    "tags": [
     "challengify"
    ]
   },
   "outputs": [
    {
     "data": {
      "text/html": [
       "<div>\n",
       "<style scoped>\n",
       "    .dataframe tbody tr th:only-of-type {\n",
       "        vertical-align: middle;\n",
       "    }\n",
       "\n",
       "    .dataframe tbody tr th {\n",
       "        vertical-align: top;\n",
       "    }\n",
       "\n",
       "    .dataframe thead th {\n",
       "        text-align: right;\n",
       "    }\n",
       "</style>\n",
       "<table border=\"1\" class=\"dataframe\">\n",
       "  <thead>\n",
       "    <tr style=\"text-align: right;\">\n",
       "      <th></th>\n",
       "      <th>carwidth</th>\n",
       "      <th>curbweight</th>\n",
       "      <th>cylindernumber</th>\n",
       "      <th>stroke</th>\n",
       "      <th>peakrpm</th>\n",
       "      <th>aspiration_turbo</th>\n",
       "      <th>enginetype_dohc</th>\n",
       "      <th>enginetype_dohcv</th>\n",
       "      <th>enginetype_l</th>\n",
       "      <th>enginetype_ohc</th>\n",
       "      <th>enginetype_ohcf</th>\n",
       "      <th>enginetype_ohcv</th>\n",
       "      <th>enginetype_rotor</th>\n",
       "    </tr>\n",
       "  </thead>\n",
       "  <tbody>\n",
       "    <tr>\n",
       "      <th>0</th>\n",
       "      <td>-0.040000</td>\n",
       "      <td>-0.299625</td>\n",
       "      <td>0.0</td>\n",
       "      <td>-2.241379</td>\n",
       "      <td>-0.571429</td>\n",
       "      <td>0.0</td>\n",
       "      <td>0.0</td>\n",
       "      <td>0.0</td>\n",
       "      <td>0.0</td>\n",
       "      <td>0.0</td>\n",
       "      <td>1.0</td>\n",
       "      <td>0.0</td>\n",
       "      <td>0.0</td>\n",
       "    </tr>\n",
       "    <tr>\n",
       "      <th>1</th>\n",
       "      <td>0.000000</td>\n",
       "      <td>-0.082397</td>\n",
       "      <td>0.0</td>\n",
       "      <td>0.379310</td>\n",
       "      <td>-1.000000</td>\n",
       "      <td>1.0</td>\n",
       "      <td>0.0</td>\n",
       "      <td>0.0</td>\n",
       "      <td>0.0</td>\n",
       "      <td>1.0</td>\n",
       "      <td>0.0</td>\n",
       "      <td>0.0</td>\n",
       "      <td>0.0</td>\n",
       "    </tr>\n",
       "    <tr>\n",
       "      <th>2</th>\n",
       "      <td>-0.680000</td>\n",
       "      <td>-0.494382</td>\n",
       "      <td>0.0</td>\n",
       "      <td>-0.206897</td>\n",
       "      <td>0.428571</td>\n",
       "      <td>0.0</td>\n",
       "      <td>0.0</td>\n",
       "      <td>0.0</td>\n",
       "      <td>0.0</td>\n",
       "      <td>1.0</td>\n",
       "      <td>0.0</td>\n",
       "      <td>0.0</td>\n",
       "      <td>0.0</td>\n",
       "    </tr>\n",
       "    <tr>\n",
       "      <th>3</th>\n",
       "      <td>1.160000</td>\n",
       "      <td>0.792759</td>\n",
       "      <td>0.0</td>\n",
       "      <td>-0.344828</td>\n",
       "      <td>-0.285714</td>\n",
       "      <td>0.0</td>\n",
       "      <td>0.0</td>\n",
       "      <td>0.0</td>\n",
       "      <td>1.0</td>\n",
       "      <td>0.0</td>\n",
       "      <td>0.0</td>\n",
       "      <td>0.0</td>\n",
       "      <td>0.0</td>\n",
       "    </tr>\n",
       "    <tr>\n",
       "      <th>4</th>\n",
       "      <td>-0.040000</td>\n",
       "      <td>-0.018727</td>\n",
       "      <td>0.0</td>\n",
       "      <td>0.586207</td>\n",
       "      <td>0.428571</td>\n",
       "      <td>1.0</td>\n",
       "      <td>0.0</td>\n",
       "      <td>0.0</td>\n",
       "      <td>0.0</td>\n",
       "      <td>1.0</td>\n",
       "      <td>0.0</td>\n",
       "      <td>0.0</td>\n",
       "      <td>0.0</td>\n",
       "    </tr>\n",
       "    <tr>\n",
       "      <th>...</th>\n",
       "      <td>...</td>\n",
       "      <td>...</td>\n",
       "      <td>...</td>\n",
       "      <td>...</td>\n",
       "      <td>...</td>\n",
       "      <td>...</td>\n",
       "      <td>...</td>\n",
       "      <td>...</td>\n",
       "      <td>...</td>\n",
       "      <td>...</td>\n",
       "      <td>...</td>\n",
       "      <td>...</td>\n",
       "      <td>...</td>\n",
       "    </tr>\n",
       "    <tr>\n",
       "      <th>128</th>\n",
       "      <td>0.155176</td>\n",
       "      <td>-0.637953</td>\n",
       "      <td>0.0</td>\n",
       "      <td>-0.620690</td>\n",
       "      <td>0.285714</td>\n",
       "      <td>0.0</td>\n",
       "      <td>0.0</td>\n",
       "      <td>0.0</td>\n",
       "      <td>0.0</td>\n",
       "      <td>1.0</td>\n",
       "      <td>0.0</td>\n",
       "      <td>0.0</td>\n",
       "      <td>0.0</td>\n",
       "    </tr>\n",
       "    <tr>\n",
       "      <th>129</th>\n",
       "      <td>0.320000</td>\n",
       "      <td>0.540574</td>\n",
       "      <td>0.0</td>\n",
       "      <td>1.965517</td>\n",
       "      <td>-0.285714</td>\n",
       "      <td>1.0</td>\n",
       "      <td>0.0</td>\n",
       "      <td>0.0</td>\n",
       "      <td>0.0</td>\n",
       "      <td>1.0</td>\n",
       "      <td>0.0</td>\n",
       "      <td>0.0</td>\n",
       "      <td>0.0</td>\n",
       "    </tr>\n",
       "    <tr>\n",
       "      <th>130</th>\n",
       "      <td>-0.600000</td>\n",
       "      <td>-0.468165</td>\n",
       "      <td>0.0</td>\n",
       "      <td>0.413793</td>\n",
       "      <td>1.142857</td>\n",
       "      <td>0.0</td>\n",
       "      <td>0.0</td>\n",
       "      <td>0.0</td>\n",
       "      <td>0.0</td>\n",
       "      <td>1.0</td>\n",
       "      <td>0.0</td>\n",
       "      <td>0.0</td>\n",
       "      <td>0.0</td>\n",
       "    </tr>\n",
       "    <tr>\n",
       "      <th>131</th>\n",
       "      <td>0.080000</td>\n",
       "      <td>-0.006242</td>\n",
       "      <td>-2.0</td>\n",
       "      <td>-0.120690</td>\n",
       "      <td>1.142857</td>\n",
       "      <td>0.0</td>\n",
       "      <td>0.0</td>\n",
       "      <td>0.0</td>\n",
       "      <td>0.0</td>\n",
       "      <td>0.0</td>\n",
       "      <td>0.0</td>\n",
       "      <td>0.0</td>\n",
       "      <td>1.0</td>\n",
       "    </tr>\n",
       "    <tr>\n",
       "      <th>132</th>\n",
       "      <td>0.155176</td>\n",
       "      <td>0.710362</td>\n",
       "      <td>1.0</td>\n",
       "      <td>0.379310</td>\n",
       "      <td>0.428571</td>\n",
       "      <td>0.0</td>\n",
       "      <td>0.0</td>\n",
       "      <td>0.0</td>\n",
       "      <td>0.0</td>\n",
       "      <td>1.0</td>\n",
       "      <td>0.0</td>\n",
       "      <td>0.0</td>\n",
       "      <td>0.0</td>\n",
       "    </tr>\n",
       "  </tbody>\n",
       "</table>\n",
       "<p>133 rows × 13 columns</p>\n",
       "</div>"
      ],
      "text/plain": [
       "     carwidth  curbweight  cylindernumber    stroke   peakrpm  \\\n",
       "0   -0.040000   -0.299625             0.0 -2.241379 -0.571429   \n",
       "1    0.000000   -0.082397             0.0  0.379310 -1.000000   \n",
       "2   -0.680000   -0.494382             0.0 -0.206897  0.428571   \n",
       "3    1.160000    0.792759             0.0 -0.344828 -0.285714   \n",
       "4   -0.040000   -0.018727             0.0  0.586207  0.428571   \n",
       "..        ...         ...             ...       ...       ...   \n",
       "128  0.155176   -0.637953             0.0 -0.620690  0.285714   \n",
       "129  0.320000    0.540574             0.0  1.965517 -0.285714   \n",
       "130 -0.600000   -0.468165             0.0  0.413793  1.142857   \n",
       "131  0.080000   -0.006242            -2.0 -0.120690  1.142857   \n",
       "132  0.155176    0.710362             1.0  0.379310  0.428571   \n",
       "\n",
       "     aspiration_turbo  enginetype_dohc  enginetype_dohcv  enginetype_l  \\\n",
       "0                 0.0              0.0               0.0           0.0   \n",
       "1                 1.0              0.0               0.0           0.0   \n",
       "2                 0.0              0.0               0.0           0.0   \n",
       "3                 0.0              0.0               0.0           1.0   \n",
       "4                 1.0              0.0               0.0           0.0   \n",
       "..                ...              ...               ...           ...   \n",
       "128               0.0              0.0               0.0           0.0   \n",
       "129               1.0              0.0               0.0           0.0   \n",
       "130               0.0              0.0               0.0           0.0   \n",
       "131               0.0              0.0               0.0           0.0   \n",
       "132               0.0              0.0               0.0           0.0   \n",
       "\n",
       "     enginetype_ohc  enginetype_ohcf  enginetype_ohcv  enginetype_rotor  \n",
       "0               0.0              1.0              0.0               0.0  \n",
       "1               1.0              0.0              0.0               0.0  \n",
       "2               1.0              0.0              0.0               0.0  \n",
       "3               0.0              0.0              0.0               0.0  \n",
       "4               1.0              0.0              0.0               0.0  \n",
       "..              ...              ...              ...               ...  \n",
       "128             1.0              0.0              0.0               0.0  \n",
       "129             1.0              0.0              0.0               0.0  \n",
       "130             1.0              0.0              0.0               0.0  \n",
       "131             0.0              0.0              0.0               1.0  \n",
       "132             1.0              0.0              0.0               0.0  \n",
       "\n",
       "[133 rows x 13 columns]"
      ]
     },
     "execution_count": 28,
     "metadata": {},
     "output_type": "execute_result"
    }
   ],
   "source": [
    "X_train_preproc=pd.concat([X_train_num,X_train_cat],axis=1)\n",
    "X_test_preproc=pd.concat([X_test_num,X_test_cat],axis=1)\n",
    "\n",
    "X_train_preproc"
   ]
  },
  {
   "cell_type": "markdown",
   "metadata": {},
   "source": [
    "## (1.7) Encoding the target"
   ]
  },
  {
   "cell_type": "markdown",
   "metadata": {},
   "source": [
    "Now we have to encode our targeting features."
   ]
  },
  {
   "cell_type": "code",
   "execution_count": 29,
   "metadata": {
    "ExecuteTime": {
     "end_time": "2023-11-25T11:59:05.799279Z",
     "start_time": "2023-11-25T11:59:05.785922Z"
    }
   },
   "outputs": [
    {
     "data": {
      "text/plain": [
       "expensive    117\n",
       "cheap         74\n",
       "Name: price, dtype: int64"
      ]
     },
     "execution_count": 29,
     "metadata": {},
     "output_type": "execute_result"
    }
   ],
   "source": [
    "y.value_counts()"
   ]
  },
  {
   "cell_type": "code",
   "execution_count": 30,
   "metadata": {
    "ExecuteTime": {
     "end_time": "2023-11-25T11:59:08.670551Z",
     "start_time": "2023-11-25T11:59:08.659058Z"
    },
    "tags": [
     "challengify"
    ]
   },
   "outputs": [],
   "source": [
    "target_dic={'expensive': 1 , 'cheap' : 0}\n",
    "y_train_enc=y_train.map(target_dic)\n",
    "y_test_enc=y_test.map(target_dic)\n"
   ]
  },
  {
   "cell_type": "markdown",
   "metadata": {},
   "source": [
    "# (2) Modeling (Logistic Regression)"
   ]
  },
  {
   "cell_type": "markdown",
   "metadata": {},
   "source": [
    "🎯 Our goal is to predict whether a car will be expensive or cheap based on some features."
   ]
  },
  {
   "cell_type": "markdown",
   "metadata": {},
   "source": [
    "## (2.0) Cross-Validation"
   ]
  },
  {
   "cell_type": "markdown",
   "metadata": {},
   "source": [
    "Let's use Cross Validation in order to assess the performance of each individual submodel."
   ]
  },
  {
   "cell_type": "markdown",
   "metadata": {},
   "source": [
    "What is the potential performance of a LogisticRegression for this dataset?"
   ]
  },
  {
   "cell_type": "code",
   "execution_count": 32,
   "metadata": {
    "ExecuteTime": {
     "end_time": "2023-11-25T11:59:22.369665Z",
     "start_time": "2023-11-25T11:59:22.328214Z"
    },
    "tags": [
     "challengify"
    ]
   },
   "outputs": [
    {
     "data": {
      "text/plain": [
       "0.8948717948717949"
      ]
     },
     "execution_count": 32,
     "metadata": {},
     "output_type": "execute_result"
    }
   ],
   "source": [
    "logreg=LogisticRegression()\n",
    "\n",
    "score=cross_validate(logreg,X_train_preproc,y_train_enc)['test_score'].mean()\n",
    "score"
   ]
  },
  {
   "cell_type": "markdown",
   "metadata": {},
   "source": [
    "## (2.2) Training and evaluating our model"
   ]
  },
  {
   "cell_type": "code",
   "execution_count": 33,
   "metadata": {
    "ExecuteTime": {
     "end_time": "2023-11-25T11:59:26.872989Z",
     "start_time": "2023-11-25T11:59:26.852226Z"
    }
   },
   "outputs": [
    {
     "data": {
      "text/plain": [
       "0.896551724137931"
      ]
     },
     "execution_count": 33,
     "metadata": {},
     "output_type": "execute_result"
    }
   ],
   "source": [
    "# Instantiate a Logistic Regression model\n",
    "logreg = LogisticRegression()\n",
    "\n",
    "# Train the model\n",
    "logreg.fit(X_train_preproc,y_train_enc)\n",
    "\n",
    "# Evaluate the model\n",
    "\n",
    "logreg.score(X_test_preproc,y_test_enc)"
   ]
  },
  {
   "cell_type": "markdown",
   "metadata": {},
   "source": [
    "## (2.3) Predicting"
   ]
  },
  {
   "cell_type": "markdown",
   "metadata": {},
   "source": [
    "Does our Machine Learning algorithm (the Logistic Regression we have just trained) think that a car with the following features will be expensive? "
   ]
  },
  {
   "cell_type": "code",
   "execution_count": 34,
   "metadata": {
    "ExecuteTime": {
     "end_time": "2023-11-25T11:59:34.332382Z",
     "start_time": "2023-11-25T11:59:34.310836Z"
    }
   },
   "outputs": [
    {
     "data": {
      "text/html": [
       "<div>\n",
       "<style scoped>\n",
       "    .dataframe tbody tr th:only-of-type {\n",
       "        vertical-align: middle;\n",
       "    }\n",
       "\n",
       "    .dataframe tbody tr th {\n",
       "        vertical-align: top;\n",
       "    }\n",
       "\n",
       "    .dataframe thead th {\n",
       "        text-align: right;\n",
       "    }\n",
       "</style>\n",
       "<table border=\"1\" class=\"dataframe\">\n",
       "  <thead>\n",
       "    <tr style=\"text-align: right;\">\n",
       "      <th></th>\n",
       "      <th>aspiration</th>\n",
       "      <th>carwidth</th>\n",
       "      <th>curbweight</th>\n",
       "      <th>enginetype</th>\n",
       "      <th>cylindernumber</th>\n",
       "      <th>stroke</th>\n",
       "      <th>peakrpm</th>\n",
       "    </tr>\n",
       "  </thead>\n",
       "  <tbody>\n",
       "    <tr>\n",
       "      <th>0</th>\n",
       "      <td>std</td>\n",
       "      <td>65.88794</td>\n",
       "      <td>1874.0</td>\n",
       "      <td>ohc</td>\n",
       "      <td>four</td>\n",
       "      <td>3.11</td>\n",
       "      <td>5400.0</td>\n",
       "    </tr>\n",
       "  </tbody>\n",
       "</table>\n",
       "</div>"
      ],
      "text/plain": [
       "  aspiration  carwidth  curbweight enginetype cylindernumber  stroke  peakrpm\n",
       "0        std  65.88794      1874.0        ohc           four    3.11   5400.0"
      ]
     },
     "execution_count": 34,
     "metadata": {},
     "output_type": "execute_result"
    }
   ],
   "source": [
    "new_car = pd.DataFrame(columns = X.columns)\n",
    "new_car.loc[0] = ['std', 65.88793969849246, 1874.0, 'ohc', 'four', 3.11, 5400.0]\n",
    "new_car"
   ]
  },
  {
   "cell_type": "code",
   "execution_count": 35,
   "metadata": {
    "ExecuteTime": {
     "end_time": "2023-11-25T11:59:41.064287Z",
     "start_time": "2023-11-25T11:59:41.045994Z"
    }
   },
   "outputs": [
    {
     "data": {
      "text/html": [
       "<div>\n",
       "<style scoped>\n",
       "    .dataframe tbody tr th:only-of-type {\n",
       "        vertical-align: middle;\n",
       "    }\n",
       "\n",
       "    .dataframe tbody tr th {\n",
       "        vertical-align: top;\n",
       "    }\n",
       "\n",
       "    .dataframe thead th {\n",
       "        text-align: right;\n",
       "    }\n",
       "</style>\n",
       "<table border=\"1\" class=\"dataframe\">\n",
       "  <thead>\n",
       "    <tr style=\"text-align: right;\">\n",
       "      <th></th>\n",
       "      <th>aspiration</th>\n",
       "      <th>carwidth</th>\n",
       "      <th>curbweight</th>\n",
       "      <th>enginetype</th>\n",
       "      <th>cylindernumber</th>\n",
       "      <th>stroke</th>\n",
       "      <th>peakrpm</th>\n",
       "    </tr>\n",
       "  </thead>\n",
       "  <tbody>\n",
       "    <tr>\n",
       "      <th>0</th>\n",
       "      <td>std</td>\n",
       "      <td>65.88794</td>\n",
       "      <td>1874.0</td>\n",
       "      <td>ohc</td>\n",
       "      <td>4</td>\n",
       "      <td>3.11</td>\n",
       "      <td>5400.0</td>\n",
       "    </tr>\n",
       "  </tbody>\n",
       "</table>\n",
       "</div>"
      ],
      "text/plain": [
       "  aspiration  carwidth  curbweight enginetype  cylindernumber  stroke  peakrpm\n",
       "0        std  65.88794      1874.0        ohc               4    3.11   5400.0"
      ]
     },
     "execution_count": 35,
     "metadata": {},
     "output_type": "execute_result"
    }
   ],
   "source": [
    "# 0 - Fixing abnormal data\n",
    "\n",
    "new_car.cylindernumber=4\n",
    "new_car\n"
   ]
  },
  {
   "cell_type": "code",
   "execution_count": 38,
   "metadata": {
    "ExecuteTime": {
     "end_time": "2023-11-25T12:00:19.960202Z",
     "start_time": "2023-11-25T12:00:19.947429Z"
    }
   },
   "outputs": [
    {
     "name": "stdout",
     "output_type": "stream",
     "text": [
      "['carwidth', 'curbweight', 'cylindernumber', 'stroke', 'peakrpm']\n",
      "['aspiration', 'enginetype']\n"
     ]
    }
   ],
   "source": [
    "print(num_features)\n",
    "print(categorical_features)"
   ]
  },
  {
   "cell_type": "code",
   "execution_count": 48,
   "metadata": {
    "ExecuteTime": {
     "end_time": "2023-11-25T12:05:30.585520Z",
     "start_time": "2023-11-25T12:05:30.566435Z"
    }
   },
   "outputs": [
    {
     "data": {
      "text/html": [
       "<div>\n",
       "<style scoped>\n",
       "    .dataframe tbody tr th:only-of-type {\n",
       "        vertical-align: middle;\n",
       "    }\n",
       "\n",
       "    .dataframe tbody tr th {\n",
       "        vertical-align: top;\n",
       "    }\n",
       "\n",
       "    .dataframe thead th {\n",
       "        text-align: right;\n",
       "    }\n",
       "</style>\n",
       "<table border=\"1\" class=\"dataframe\">\n",
       "  <thead>\n",
       "    <tr style=\"text-align: right;\">\n",
       "      <th></th>\n",
       "      <th>carwidth</th>\n",
       "      <th>curbweight</th>\n",
       "      <th>cylindernumber</th>\n",
       "      <th>stroke</th>\n",
       "      <th>peakrpm</th>\n",
       "    </tr>\n",
       "  </thead>\n",
       "  <tbody>\n",
       "    <tr>\n",
       "      <th>0</th>\n",
       "      <td>0.155176</td>\n",
       "      <td>-0.637953</td>\n",
       "      <td>0.0</td>\n",
       "      <td>-0.62069</td>\n",
       "      <td>0.285714</td>\n",
       "    </tr>\n",
       "  </tbody>\n",
       "</table>\n",
       "</div>"
      ],
      "text/plain": [
       "   carwidth  curbweight  cylindernumber   stroke   peakrpm\n",
       "0  0.155176   -0.637953             0.0 -0.62069  0.285714"
      ]
     },
     "execution_count": 48,
     "metadata": {},
     "output_type": "execute_result"
    }
   ],
   "source": [
    "# 1 - Isolating the numerical features\n",
    "X_new_num = new_car[num_features]\n",
    "\n",
    "# Scaling the features and storing them\n",
    "X_new_num_scaled=pd.DataFrame(scaler.transform(X_new_num),columns=X_new_num.columns)\n",
    "\n",
    "# Showing the scaled features\n",
    "X_new_num_scaled"
   ]
  },
  {
   "cell_type": "code",
   "execution_count": 49,
   "metadata": {
    "ExecuteTime": {
     "end_time": "2023-11-25T12:05:36.515369Z",
     "start_time": "2023-11-25T12:05:36.505106Z"
    }
   },
   "outputs": [
    {
     "data": {
      "text/html": [
       "<div>\n",
       "<style scoped>\n",
       "    .dataframe tbody tr th:only-of-type {\n",
       "        vertical-align: middle;\n",
       "    }\n",
       "\n",
       "    .dataframe tbody tr th {\n",
       "        vertical-align: top;\n",
       "    }\n",
       "\n",
       "    .dataframe thead th {\n",
       "        text-align: right;\n",
       "    }\n",
       "</style>\n",
       "<table border=\"1\" class=\"dataframe\">\n",
       "  <thead>\n",
       "    <tr style=\"text-align: right;\">\n",
       "      <th></th>\n",
       "      <th>aspiration_turbo</th>\n",
       "      <th>enginetype_dohc</th>\n",
       "      <th>enginetype_dohcv</th>\n",
       "      <th>enginetype_l</th>\n",
       "      <th>enginetype_ohc</th>\n",
       "      <th>enginetype_ohcf</th>\n",
       "      <th>enginetype_ohcv</th>\n",
       "      <th>enginetype_rotor</th>\n",
       "    </tr>\n",
       "  </thead>\n",
       "  <tbody>\n",
       "    <tr>\n",
       "      <th>0</th>\n",
       "      <td>0.0</td>\n",
       "      <td>0.0</td>\n",
       "      <td>0.0</td>\n",
       "      <td>0.0</td>\n",
       "      <td>1.0</td>\n",
       "      <td>0.0</td>\n",
       "      <td>0.0</td>\n",
       "      <td>0.0</td>\n",
       "    </tr>\n",
       "  </tbody>\n",
       "</table>\n",
       "</div>"
      ],
      "text/plain": [
       "   aspiration_turbo  enginetype_dohc  enginetype_dohcv  enginetype_l  \\\n",
       "0               0.0              0.0               0.0           0.0   \n",
       "\n",
       "   enginetype_ohc  enginetype_ohcf  enginetype_ohcv  enginetype_rotor  \n",
       "0             1.0              0.0              0.0               0.0  "
      ]
     },
     "execution_count": 49,
     "metadata": {},
     "output_type": "execute_result"
    }
   ],
   "source": [
    "# 2 - Isolating the categorical features\n",
    "X_new_cat = new_car[categorical_features]\n",
    "\n",
    "# Encoding the features and storing them\n",
    "\n",
    "X_new_cat_encoded=pd.DataFrame(ohe.transform(X_new_cat),columns=ohe.get_feature_names_out())\n",
    "\n",
    "# Showing the encoded features\n",
    "X_new_cat_encoded\n"
   ]
  },
  {
   "cell_type": "code",
   "execution_count": 52,
   "metadata": {
    "ExecuteTime": {
     "end_time": "2023-11-25T12:06:33.777972Z",
     "start_time": "2023-11-25T12:06:33.756896Z"
    }
   },
   "outputs": [
    {
     "data": {
      "text/html": [
       "<div>\n",
       "<style scoped>\n",
       "    .dataframe tbody tr th:only-of-type {\n",
       "        vertical-align: middle;\n",
       "    }\n",
       "\n",
       "    .dataframe tbody tr th {\n",
       "        vertical-align: top;\n",
       "    }\n",
       "\n",
       "    .dataframe thead th {\n",
       "        text-align: right;\n",
       "    }\n",
       "</style>\n",
       "<table border=\"1\" class=\"dataframe\">\n",
       "  <thead>\n",
       "    <tr style=\"text-align: right;\">\n",
       "      <th></th>\n",
       "      <th>carwidth</th>\n",
       "      <th>curbweight</th>\n",
       "      <th>cylindernumber</th>\n",
       "      <th>stroke</th>\n",
       "      <th>peakrpm</th>\n",
       "      <th>aspiration_turbo</th>\n",
       "      <th>enginetype_dohc</th>\n",
       "      <th>enginetype_dohcv</th>\n",
       "      <th>enginetype_l</th>\n",
       "      <th>enginetype_ohc</th>\n",
       "      <th>enginetype_ohcf</th>\n",
       "      <th>enginetype_ohcv</th>\n",
       "      <th>enginetype_rotor</th>\n",
       "    </tr>\n",
       "  </thead>\n",
       "  <tbody>\n",
       "    <tr>\n",
       "      <th>0</th>\n",
       "      <td>0.155176</td>\n",
       "      <td>-0.637953</td>\n",
       "      <td>0.0</td>\n",
       "      <td>-0.62069</td>\n",
       "      <td>0.285714</td>\n",
       "      <td>0.0</td>\n",
       "      <td>0.0</td>\n",
       "      <td>0.0</td>\n",
       "      <td>0.0</td>\n",
       "      <td>1.0</td>\n",
       "      <td>0.0</td>\n",
       "      <td>0.0</td>\n",
       "      <td>0.0</td>\n",
       "    </tr>\n",
       "  </tbody>\n",
       "</table>\n",
       "</div>"
      ],
      "text/plain": [
       "   carwidth  curbweight  cylindernumber   stroke   peakrpm  aspiration_turbo  \\\n",
       "0  0.155176   -0.637953             0.0 -0.62069  0.285714               0.0   \n",
       "\n",
       "   enginetype_dohc  enginetype_dohcv  enginetype_l  enginetype_ohc  \\\n",
       "0              0.0               0.0           0.0             1.0   \n",
       "\n",
       "   enginetype_ohcf  enginetype_ohcv  enginetype_rotor  \n",
       "0              0.0              0.0               0.0  "
      ]
     },
     "execution_count": 52,
     "metadata": {},
     "output_type": "execute_result"
    }
   ],
   "source": [
    "# 3 - Aggregating the numerical features and categorical features together\n",
    "\n",
    "new_car_preprocessed= pd.concat([X_new_num_scaled,X_new_cat_encoded],axis=1)\n",
    "\n",
    "new_car_preprocessed"
   ]
  },
  {
   "cell_type": "code",
   "execution_count": 53,
   "metadata": {
    "ExecuteTime": {
     "end_time": "2023-11-25T12:06:43.190702Z",
     "start_time": "2023-11-25T12:06:43.178315Z"
    },
    "tags": [
     "delete_end"
    ]
   },
   "outputs": [
    {
     "data": {
      "text/plain": [
       "array([0])"
      ]
     },
     "execution_count": 53,
     "metadata": {},
     "output_type": "execute_result"
    }
   ],
   "source": [
    "# 4 - Prediction\n",
    "\n",
    "logreg.predict(new_car_preprocessed)"
   ]
  },
  {
   "cell_type": "markdown",
   "metadata": {},
   "source": [
    "Our new car is cheap according to our model"
   ]
  },
  {
   "cell_type": "code",
   "execution_count": 54,
   "metadata": {
    "ExecuteTime": {
     "end_time": "2023-11-25T12:08:03.445772Z",
     "start_time": "2023-11-25T12:08:03.431686Z"
    }
   },
   "outputs": [
    {
     "data": {
      "text/plain": [
       "array([[0.73300117, 0.26699883]])"
      ]
     },
     "execution_count": 54,
     "metadata": {},
     "output_type": "execute_result"
    }
   ],
   "source": [
    "#We can also retrieve the probabilities for each class\n",
    "\n",
    "logreg.predict_proba(new_car_preprocessed)"
   ]
  },
  {
   "cell_type": "markdown",
   "metadata": {},
   "source": [
    "According to our model there are 73% chances that our car is cheap vs 25% chances that it is expensive.\n"
   ]
  }
 ],
 "metadata": {
  "kernelspec": {
   "display_name": "Python 3 (ipykernel)",
   "language": "python",
   "name": "python3"
  },
  "language_info": {
   "codemirror_mode": {
    "name": "ipython",
    "version": 3
   },
   "file_extension": ".py",
   "mimetype": "text/x-python",
   "name": "python",
   "nbconvert_exporter": "python",
   "pygments_lexer": "ipython3",
   "version": "3.10.6"
  },
  "toc": {
   "base_numbering": 1,
   "nav_menu": {},
   "number_sections": true,
   "sideBar": true,
   "skip_h1_title": false,
   "title_cell": "Table of Contents",
   "title_sidebar": "Contents",
   "toc_cell": false,
   "toc_position": {},
   "toc_section_display": true,
   "toc_window_display": false
  }
 },
 "nbformat": 4,
 "nbformat_minor": 4
}
